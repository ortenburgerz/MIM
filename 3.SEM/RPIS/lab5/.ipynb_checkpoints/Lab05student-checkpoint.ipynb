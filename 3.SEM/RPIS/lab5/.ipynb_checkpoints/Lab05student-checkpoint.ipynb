{
 "cells": [
  {
   "cell_type": "markdown",
   "metadata": {},
   "source": [
    "**Problem 5c (Chi-square independence test).** \n",
    "You are given the results of IPSOS exit polls for 2015 parliamentary elections in Poland in table **data**. Decide if we can assume that gender and voting preferences are independent. To this end:\n",
    " * Compute row totals $r_i$, column totals $c_j$, and overall total $N$.\n",
    " * If the variables are independent, we expect to see $f_{ij} = r_i c_j / N$ in $i$-th row $j$-th column.\n",
    " * Compute the test statistic as before, i.e. $$ S = \\sum_{ij} \\frac{\\left(f_{ij}-X_{ij}\\right)^2}{f_{ij}}.$$\n",
    " * Again test vs $\\chi^2$ CDF. However, if the variables are independent, we only have $(r-1)(c-1)$ degrees of freedom here (we only need to know the row and column totals).\n",
    " * The KORWiN party looks like an obvious outlier. Note, when we work with categorical variables we should not just remove a category -- it is better to aggregate them. Introduce an aggregated category by summing the votes for the parties with less than 5% total votes and repeat the experiment.\n",
    " \n",
    "**Note:** This kind of data is (to the best of our knowledge) not available online. It has been recreated based on\n",
    "online infographics and other tidbits of information available online. It is definitely not completely accurate, hopefully it is not very far off. Moreover, exit polls do not necessary reflect the actual distribution of the population."
   ]
  },
  {
   "cell_type": "code",
   "execution_count": 3,
   "metadata": {},
   "outputs": [
    {
     "name": "stdout",
     "output_type": "stream",
     "text": [
      "Z KORWINEM\n",
      "[43792, 45487]\n",
      "[35180, 20960, 8173, 6390, 5940, 4684, 3458, 4494]\n",
      "mamy podstawy, aby odrzucic hipoteze zerowa\n",
      "BEZ KORWINA\n",
      "[42557, 42228]\n",
      "[35180, 20960, 8173, 6390, 5940, 4684, 3458]\n",
      "mamy podstawy, aby odrzucic hipoteze zerowa\n",
      "oznacza to, ze plec i pogladay polityczne nie sa niezalezne w obu przypadkach\n"
     ]
    }
   ],
   "source": [
    "import numpy as np\n",
    "import scipy.stats\n",
    "# Rows: women, men\n",
    "# Columns: PiS, PO, Kukiz, Nowoczesna, Lewica, PSL, Razem, KORWiN\n",
    "data = np.array([[ 17508, 11642,  3308,  3131,  2911,  2205,  1852, 1235],\n",
    " [ 17672,  9318,  4865,  3259,  3029,  2479,  1606, 3259]])\n",
    "\n",
    "\n",
    "ROWS = 2\n",
    "COLUMNS = 8\n",
    "ALPHA = 0.05\n",
    "\n",
    "\n",
    "\n",
    "def f(i, j, r_i_sum, c_i_sum,  n):\n",
    "    return r_i_sum[i] * c_i_sum[j] / n\n",
    "\n",
    "\n",
    "def component(i, j, r_i_sum, c_i_sum,  n):\n",
    "    return ((f(i, j, r_i_sum, c_i_sum,  n) - data[i][j]) ** 2) / f(i, j, r_i_sum, c_i_sum,  n)\n",
    "\n",
    "\n",
    "def calculate(columns):\n",
    "    r_i_sum = [sum(data[i][:columns]) for i in range(ROWS)]\n",
    "    c_i_sum = [sum(data[j][i] for j in range(ROWS)) for i in range(columns)]\n",
    "    n = sum(r_i_sum)\n",
    "\n",
    "    s = sum(sum(component(i, j, r_i_sum, c_i_sum,  n) for i in range(ROWS)) for j in range(columns))\n",
    "    degrees_of_freedom = (ROWS - 1) * (columns - 1)\n",
    "    if 1 - scipy.stats.chi2.cdf(s, degrees_of_freedom) < ALPHA:\n",
    "        print(\"mamy podstawy, aby odrzucic hipoteze zerowa\")\n",
    "    else:\n",
    "        print(\"mamy podstawy, aby przyjac hipoteze zerowa\")\n",
    "\n",
    "\n",
    "print(\"Z KORWiN\")\n",
    "calculate(COLUMNS)\n",
    "\n",
    "print(\"BEZ KORWiN\")\n",
    "calculate(COLUMNS - 1)\n",
    "\n",
    "print(\"oznacza to, ze plec i poglady polityczne nie sa niezalezne w obu przypadkach\")"
   ]
  },
  {
   "cell_type": "markdown",
   "metadata": {},
   "source": [
    "Some students solving the problem above introduce various bugs, which cause them to get wrong conclusions (or right conclusions for wrong reason). Below is a simple code to test your implementation."
   ]
  },
  {
   "cell_type": "code",
   "execution_count": 4,
   "metadata": {
    "scrolled": true
   },
   "outputs": [
    {
     "name": "stdout",
     "output_type": "stream",
     "text": [
      "[0.24146872176981204, 0.6134998186439241, 0.4702388695681099, 0.27288521591244974, 0.467674463143685, 0.9399155751289288, 0.8886859279662022, 0.4595590863467576, 0.6666780694537695, 0.5325625501656698, 0.7171007874394487, 0.6148666817772681, 0.9389293553331605, 0.9977250184261998, 0.6745523105077731, 0.9778868988851519, 0.8496824011715454, 0.658488721043213, 0.6109195113634025, 0.8656989896549943]\n"
     ]
    },
    {
     "data": {
      "text/plain": [
       "KstestResult(statistic=0.0434716092876532, pvalue=0.8279929846870205, statistic_location=0.2384716092876532, statistic_sign=-1)"
      ]
     },
     "execution_count": 4,
     "metadata": {},
     "output_type": "execute_result"
    },
    {
     "data": {
      "image/png": "[encoded data removed]",
      "text/plain": [
       "<Figure size 640x480 with 1 Axes>"
      ]
     },
     "metadata": {},
     "output_type": "display_data"
    }
   ],
   "source": [
    "import matplotlib.pyplot as plt\n",
    "def attempt():\n",
    "    # generate a similar dataset with 6 parties and two genders\n",
    "    # this time the null hypothesis is true, i.e., gender has no effect on voting preferences\n",
    "    data = np.zeros([2, 6])\n",
    "    for k in range(10000):\n",
    "      i = np.random.randint(2)\n",
    "      j = int(np.sqrt(np.random.randint(36)))\n",
    "      data[i][j] = data[i][j] + 1\n",
    "    # replace np.random.random() with the p-value returned by your implementation of chi-square independence test\n",
    "    # return chi_square_independence_test_pvalue(data)\n",
    "    return np.random.random()\n",
    "    \n",
    "pvalues = [attempt() for t in range(200)]\n",
    "print(pvalues[:20])\n",
    "# The values you get here should have (roughly) uniform distribution in [0,1].\n",
    "# Note: this means that, in 20 attempts, we are likely to find one to rejecting the null hypothesis,\n",
    "# even though the null hypothesis is true!\n",
    "plt.hist(pvalues)\n",
    "\n",
    "# to test whether the distribution of pvalue is indeed close to uniform distribution,\n",
    "# we can use the Kolmogorov-Smirnov test:\n",
    "scipy.stats.kstest(pvalues, \"uniform\")\n",
    "\n",
    "# Examine the pvalue returned by kstest.\n",
    "# Introduce a bug in your implementation (e.g. change the number of degrees of freedom) and see how the\n",
    "# pvalue returned by kstest changes."
   ]
  }
 ],
 "metadata": {
  "kernelspec": {
   "display_name": "Python 3 (ipykernel)",
   "language": "python",
   "name": "python3"
  },
  "language_info": {
   "codemirror_mode": {
    "name": "ipython",
    "version": 3
   },
   "file_extension": ".py",
   "mimetype": "text/x-python",
   "name": "python",
   "nbconvert_exporter": "python",
   "pygments_lexer": "ipython3",
   "version": "3.10.9"
  }
 },
 "nbformat": 4,
 "nbformat_minor": 1
}
