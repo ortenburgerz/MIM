{
 "cells": [
  {
   "cell_type": "markdown",
   "metadata": {},
   "source": [
    "# The basics of Python and Jupyter"
   ]
  },
  {
   "cell_type": "markdown",
   "metadata": {},
   "source": [
    "Hello from this Jupyter notebook!\n",
    "\n",
    "This is a **markdown** cell (containing text). Double click to edit it, then press *Ctrl+Enter* to see the output."
   ]
  },
  {
   "cell_type": "markdown",
   "metadata": {},
   "source": [
    "Below is a code cell. Click it, then press Ctrl+Enter to run it."
   ]
  },
  {
   "cell_type": "code",
   "execution_count": 26,
   "metadata": {},
   "outputs": [
    {
     "data": {
      "text/plain": [
       "4"
      ]
     },
     "execution_count": 26,
     "metadata": {},
     "output_type": "execute_result"
    }
   ],
   "source": [
    "2+2"
   ]
  },
  {
   "cell_type": "code",
   "execution_count": 27,
   "metadata": {},
   "outputs": [
    {
     "name": "stdout",
     "output_type": "stream",
     "text": [
      "now x =  0\n",
      "now x =  1\n",
      "now x =  2\n",
      "now x =  3\n",
      "now x =  4\n",
      "now x =  5\n",
      "now x =  6\n",
      "now x =  7\n",
      "now x =  8\n",
      "now x =  9\n"
     ]
    }
   ],
   "source": [
    "# for loop and print\n",
    "for x in range(10):\n",
    "    print(\"now x = \", x)"
   ]
  },
  {
   "cell_type": "markdown",
   "metadata": {},
   "source": [
    "Let's compute $\\sum_{i=1}^{10} i$."
   ]
  },
  {
   "cell_type": "code",
   "execution_count": 28,
   "metadata": {},
   "outputs": [
    {
     "data": {
      "text/plain": [
       "55"
      ]
     },
     "execution_count": 28,
     "metadata": {},
     "output_type": "execute_result"
    }
   ],
   "source": [
    "sum(x for x in range(1, 11))"
   ]
  },
  {
   "cell_type": "code",
   "execution_count": 29,
   "metadata": {},
   "outputs": [
    {
     "name": "stdout",
     "output_type": "stream",
     "text": [
      "[1, 2, 3, 4, 5, 6, 7, 8, 9, 10]\n",
      "2\n",
      "10\n",
      "[4, 5, 6, 7, 8, 9, 10]\n",
      "[1, 2, 3]\n",
      "[1, 2, 3, 4, 5, 6, 7, 8, 9, 10, 1, 2, 3, 4, 5, 6, 7, 8, 9, 10]\n",
      "[1, 2, 3, 4, 5, 6, 7, 8, 9, 10, 1, 2, 3, 4, 5, 6, 7, 8, 9, 10, 1, 2, 3, 4, 5, 6, 7, 8, 9, 10, 1, 2, 3, 4, 5, 6, 7, 8, 9, 10, 1, 2, 3, 4, 5, 6, 7, 8, 9, 10]\n",
      "[4, 5, 6, 7]\n",
      "[8, 7, 6, 5]\n",
      "[10, 9, 8, 7, 6, 5, 4, 3, 2, 1]\n",
      "[1, 2, 3, 21, 22, 8, 9, 10]\n",
      "76\n",
      "[10, 20, 30, 210, 220, 80, 90, 100]\n",
      "[1, 2, 3, 8, 9, 10]\n"
     ]
    }
   ],
   "source": [
    "# lists\n",
    "l = [1, 2, 3, 4, 5, 6, 7, 8, 9, 10]\n",
    "print(l)\n",
    "print(l[1])\n",
    "print(l[-1])\n",
    "print(l[3:])\n",
    "print(l[:3])\n",
    "print(l+l)\n",
    "print(l*5)\n",
    "print(l[3:7])\n",
    "print(l[7:3:-1])\n",
    "print(l[::-1])\n",
    "l[3:7] = [21, 22]\n",
    "print(l)\n",
    "print(sum(l))\n",
    "print([x*10 for x in l])\n",
    "print([x for x in l if x < 20])"
   ]
  },
  {
   "cell_type": "code",
   "execution_count": 29,
   "metadata": {},
   "outputs": [
    {
     "name": "stdout",
     "output_type": "stream",
     "text": [
      "1000000\n",
      "10\n",
      "1000015\n",
      "20\n",
      "30\n",
      "{10: 50, 20: 30, 1000000: 100, 2000000: 200, 5: 300}\n"
     ]
    }
   ],
   "source": [
    "# sets and dictionaries (unordered)\n",
    "\n",
    "s = set()\n",
    "s.add(10)\n",
    "s.add(10)\n",
    "s.add(20)\n",
    "s.add(30)\n",
    "s.add(1000000)\n",
    "s.add(1000015)\n",
    "for x in s:\n",
    "    print(x)\n",
    "\n",
    "d = dict()\n",
    "d[10] = 50\n",
    "d[20] = 30\n",
    "d[1000000] = 100\n",
    "d[2000000] = 200\n",
    "d[5] = 300\n",
    "print(d)"
   ]
  },
  {
   "cell_type": "code",
   "execution_count": 31,
   "metadata": {},
   "outputs": [
    {
     "name": "stdout",
     "output_type": "stream",
     "text": [
      "[1, 2, 3, 21, 22, 8, 9, 10]\n"
     ]
    }
   ],
   "source": [
    "#will still contain l (if you have run the relevant code cell above)\n",
    "print(l)\n"
   ]
  },
  {
   "cell_type": "code",
   "execution_count": 31,
   "metadata": {},
   "outputs": [
    {
     "name": "stdout",
     "output_type": "stream",
     "text": [
      "2\n"
     ]
    }
   ],
   "source": [
    "counter = 0\n",
    "def add(x):\n",
    "    global counter\n",
    "    counter = counter + 1\n",
    "    return l[0] + x\n",
    "\n",
    "add(7)\n",
    "add(5)\n",
    "print(counter)\n"
   ]
  },
  {
   "cell_type": "code",
   "execution_count": 35,
   "metadata": {},
   "outputs": [
    {
     "name": "stdout",
     "output_type": "stream",
     "text": [
      "[[0, 0, 0, 0, 0], [0, 0, 0, 0, 0], [0, 0, 0, 0, 0], [0, 0, 0, 0, 0], [0, 0, 0, 0, 0]]\n",
      "[[0, 'look', 0, 0, 0], [0, 'look', 0, 0, 0], [0, 'look', 0, 0, 0], [0, 'look', 0, 0, 0], [0, 'look', 0, 0, 0]]\n"
     ]
    }
   ],
   "source": [
    "# lists are passed by reference!\n",
    "tab = [[0]*5]*5\n",
    "print(tab)\n",
    "tab[1][1] = \"look\"\n",
    "print(tab)"
   ]
  },
  {
   "cell_type": "code",
   "execution_count": 51,
   "metadata": {},
   "outputs": [
    {
     "name": "stdout",
     "output_type": "stream",
     "text": [
      "[5, 7, 2, 2, 8, 7, 9, 8, 5, 5, 0, 0, 3, 5, 8, 5, 3, 9, 2, 4]\n",
      "[1, 0, 6, 6, 8, 1, 5, 1, 5, 8, 6, 2, 1, 9, 4, 6, 0, 8, 7, 7]\n"
     ]
    }
   ],
   "source": [
    "# import module\n",
    "import random\n",
    "print([random.randrange(0, 10) for x in range(20)])\n",
    "from random import randrange\n",
    "print([randrange(0, 10) for x in range(20)])"
   ]
  },
  {
   "cell_type": "code",
   "execution_count": 63,
   "metadata": {},
   "outputs": [
    {
     "name": "stdout",
     "output_type": "stream",
     "text": [
      "832040\n",
      "832040\n",
      "832040\n",
      "832040\n",
      "832040\n",
      "150 ms ± 0 ns per loop (mean ± std. dev. of 1 run, 5 loops each)\n"
     ]
    }
   ],
   "source": [
    "# timeit (Jupyter's built-in magic command)\n",
    "# Python is slow (NumPy is faster)\n",
    "def fib(x):\n",
    "    if x < 2:\n",
    "        return x\n",
    "    else:\n",
    "        return fib(x-1) + fib(x-2)\n",
    "%timeit -n 5 -r 1 print(fib(30))"
   ]
  },
  {
   "cell_type": "code",
   "execution_count": null,
   "metadata": {},
   "outputs": [],
   "source": []
  }
 ],
 "metadata": {
  "kernelspec": {
   "display_name": "Python 3 (ipykernel)",
   "language": "python",
   "name": "python3"
  },
  "language_info": {
   "codemirror_mode": {
    "name": "ipython",
    "version": 3
   },
   "file_extension": ".py",
   "mimetype": "text/x-python",
   "name": "python",
   "nbconvert_exporter": "python",
   "pygments_lexer": "ipython3",
   "version": "3.8.2"
  }
 },
 "nbformat": 4,
 "nbformat_minor": 1
}
