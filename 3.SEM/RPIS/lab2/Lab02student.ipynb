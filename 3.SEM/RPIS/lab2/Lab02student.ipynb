{
 "cells": [
  {
   "cell_type": "markdown",
   "metadata": {},
   "source": [
    "# Discrete sampling\n",
    "In the last problem of the first session we sampled with given probabilities using prefix sums and binary search. The sampling code is the bottleneck of the whole process, its running times is 3 times higher than the code for uniform probabilities, and the difference would only increase for larger number of outcomes. In the next two problems we discuss two simple, but powerful techniques one can use to sample in time $O(1)$."
   ]
  },
  {
   "cell_type": "markdown",
   "metadata": {},
   "source": [
    "**Problem 2a.** Consider the problem of sampling with known probabilities $p_1,\\ldots,p_d$. Suppose that you have a black-box that samples with probabilities $q_1,\\ldots,q_d$ that are close to $p_1,\\ldots,p_d$, say\n",
    "$$ \\forall_{i=1,\\ldots,n} p_i \\le (1+\\varepsilon)q_i.$$\n",
    "\n",
    "* How can you use this black-box to sample with probabilities $p_1,\\ldots,p_d$? It is expected, that the running time of the algorithm would be non-deterministic.\n",
    "* Prove that your algorithm is correct.\n",
    "* Implement the algorithm and use it to give a faster implementation for **Problem 1c**."
   ]
  },
  {
   "cell_type": "code",
   "execution_count": 1,
   "metadata": {},
   "outputs": [
    {
     "data": {
      "image/png": "[encoded data removed]",
      "text/plain": [
       "<Figure size 640x480 with 1 Axes>"
      ]
     },
     "metadata": {},
     "output_type": "display_data"
    }
   ],
   "source": [
    "import math\n",
    "import numpy as np\n",
    "import matplotlib.pyplot as plt\n",
    "import random\n",
    "\n",
    "d = 365\n",
    "dane = np.loadtxt('us_births_69_88.csv', skiprows = 1, delimiter = ',', dtype = int)\n",
    "urodzenia = dane[:, 2]\n",
    "suma_urodzen = sum(urodzenia)\n",
    "p_n = [urodzenia[i] / suma_urodzen for i in range(d)]\n",
    "p_max = max(p_n)\n",
    "\n",
    "\n",
    "def FP():\n",
    "    while True:\n",
    "        x = random.randrange(d)\n",
    "        m = random.uniform(0, 1)\n",
    "\n",
    "        if (m < p_n[x] / p_max):\n",
    "            return x\n",
    "\n",
    "\n",
    "def funkcja():\n",
    "    pojawily_sie = set()\n",
    "    data = FP()\n",
    "    i = 0\n",
    "\n",
    "    while (data not in pojawily_sie):\n",
    "        pojawily_sie.add(data)\n",
    "        data = FP()\n",
    "        i += 1\n",
    "\n",
    "    return i\n",
    "\n",
    "\n",
    "res = [funkcja() for i in range(1, 100000)]\n",
    "plt.hist(res, bins=range(70))\n",
    "plt.show()"
   ]
  },
  {
   "cell_type": "markdown",
   "metadata": {},
   "source": [
    "**Problem 2b.** One of the reasons this implementation is not significantly faster than the one in **Problem 1c** , apart from $d$ being rather small, is that we are using Python's interpreter a bit too much, and Python is slow. One way around this is usually to use a library function - **searchsorted** is much faster than an equivalent code implemented in pure Python. But even if the functionality you need is not implemented in a lower level language as\n",
    "a library function, there is still hope. You can try to implement it using optimized array algebra, for example using **numpy**. In this problem, your task is to rewrite the previous algorithm, so that the amount of *looping* is reduced to a minimum necessary. In particular, you should create a *vectorized* version of random dates generation (in bulk), while the actual search for duplicates remains a loop with a **set**. Here are some useful tips:\n",
    "   * You can perform arithmetic, comparisons, etc. on **numpy** arrays.\n",
    "   * You can generate whole **numpy** arrays of random numbers at once.\n",
    "   * You can even perform parallel look-up like in the example below."
   ]
  },
  {
   "cell_type": "code",
   "execution_count": 9,
   "metadata": {},
   "outputs": [
    {
     "data": {
      "image/png": "[encoded data removed]",
      "text/plain": [
       "<Figure size 640x480 with 1 Axes>"
      ]
     },
     "metadata": {},
     "output_type": "display_data"
    }
   ],
   "source": []
  },
  {
   "cell_type": "markdown",
   "metadata": {},
   "source": [
    "**Problem 2c (Squaring the histogram).** In this problem, we again want to sample with known probabilities $p_1,\\ldots,p_n$, but this time we make no assumptions on $p_i$. Consider the following algorithm:\n",
    "   * Let $V$ be the mean of $p_i$, i.e. $V=\\frac{1}{n}$.\n",
    "   * Create $n$ buckets, each with volume $V$, put each $p_i$ into a separate bucket.\n",
    "   * Until there exists a bucket $A$ that is not full, find a bucket $B$ that overflows, and trasfer probability from $B$ to $A$ until $A$ is exactly full\n",
    "\n",
    "Show that:\n",
    "   * This algorithm always ends.\n",
    "   * When it ends, each bucket contains pieces of exactly two $p_i$'s.\n",
    "\n",
    "How to use the result of this algorithm to sample with probabilities $p_i$. Argue that your algorithm is correct and implement it. The sampling part should be *vectorized*. Use this algorithm to sample birthdates again, and test its efficiency."
   ]
  },
  {
   "cell_type": "code",
   "execution_count": null,
   "metadata": {},
   "outputs": [],
   "source": [
    "\n"
   ]
  },
  {
   "cell_type": "markdown",
   "metadata": {},
   "source": [
    "\n",
    "**Problem 2d.** Show that the frequency histogram for empirical birthday frequencies can actually be computed exactly, and implement your idea. To this end, design a recurence relation using conditional probabilities and use dynamic programming."
   ]
  },
  {
   "cell_type": "markdown",
   "metadata": {},
   "source": [
    "**BONUS**. An alternative plotting library: plotly"
   ]
  },
  {
   "cell_type": "code",
   "execution_count": null,
   "metadata": {},
   "outputs": [],
   "source": [
    "#install plotly with: pip install plotly\n",
    "#you can run this shell command directly from Jupyter, by prefixing it with !\n",
    "!pip install plotly\n",
    "\n",
    "from plotly.offline import download_plotlyjs, init_notebook_mode, plot, iplot\n",
    "import plotly.graph_objs as go\n",
    "import numpy as np\n",
    "\n",
    "init_notebook_mode(connected=True)\n",
    "\n",
    "# example scatterplot\n",
    "\n",
    "x = np.linspace(0, 1, 10)\n",
    "y = x * x\n",
    "\n",
    "iplot([go.Scatter(x=x, y=y, name=\"y=x^2\"), go.Scatter(x=x, y=-y, name=\"y=-x^2\")])\n",
    "\n",
    "# example heatmap\n",
    "\n",
    "iplot([go.Heatmap(z=[[10, 20, 30, 40],\n",
    "                      [20, 30, 40, 50],\n",
    "                      [30, 40, 50, 60]])])\n"
   ]
  }
 ],
 "metadata": {
  "kernelspec": {
   "display_name": "Python 3 (ipykernel)",
   "language": "python",
   "name": "python3"
  },
  "language_info": {
   "codemirror_mode": {
    "name": "ipython",
    "version": 3
   },
   "file_extension": ".py",
   "mimetype": "text/x-python",
   "name": "python",
   "nbconvert_exporter": "python",
   "pygments_lexer": "ipython3",
   "version": "3.10.8"
  }
 },
 "nbformat": 4,
 "nbformat_minor": 1
}
