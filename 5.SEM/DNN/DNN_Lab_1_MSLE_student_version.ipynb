{
 "cells": [
  {
   "cell_type": "markdown",
   "metadata": {
    "id": "op6nRS5M-oXX"
   },
   "source": [
    "<center><img src='https://drive.google.com/uc?id=1_utx_ZGclmCwNttSe40kYA6VHzNocdET' height=\"60\"></center>\n",
    "\n",
    "AI TECH - Akademia Innowacyjnych Zastosowań Technologii Cyfrowych. Program Operacyjny Polska Cyfrowa na lata 2014-2020\n",
    "<hr>\n",
    "\n",
    "<center><img src='https://drive.google.com/uc?id=1BXZ0u3562N_MqCLcekI-Ens77Kk4LpPm'></center>\n",
    "\n",
    "<center>\n",
    "Projekt współfinansowany ze środków Unii Europejskiej w ramach Europejskiego Funduszu Rozwoju Regionalnego\n",
    "Program Operacyjny Polska Cyfrowa na lata 2014-2020,\n",
    "Oś Priorytetowa nr 3 \"Cyfrowe kompetencje społeczeństwa\" Działanie  nr 3.2 \"Innowacyjne rozwiązania na rzecz aktywizacji cyfrowej\"\n",
    "Tytuł projektu:  „Akademia Innowacyjnych Zastosowań Technologii Cyfrowych (AI Tech)”\n",
    "    </center>"
   ]
  },
  {
   "cell_type": "markdown",
   "metadata": {
    "id": "VqdiMxZx-EoD"
   },
   "source": [
    "# Linear regression\n",
    "\n",
    "In this exercise you will use linear regression to predict flat prices. Training will be handled via gradient descent and we will:\n",
    "* have multiple features (i.e. variables used to make the prediction),\n",
    "* employ some basic feature engineering,\n",
    "* work with a non-standard loss function.\n",
    "\n",
    "Let's start with getting the data."
   ]
  },
  {
   "cell_type": "code",
   "execution_count": 16,
   "metadata": {
    "colab": {
     "base_uri": "https://localhost:8080/"
    },
    "id": "heeKjQ2r-EoH",
    "outputId": "d5927577-a271-49d3-a64d-1fd383560683"
   },
   "outputs": [
    {
     "name": "stdout",
     "output_type": "stream",
     "text": [
      "zsh:1: no matches found: https://www.dropbox.com/s/zey0gx91pna8irj/mieszkania.csv?dl=1\n",
      "zsh:1: no matches found: https://www.dropbox.com/s/dbrj6sbxb4ayqjz/mieszkania_test.csv?dl=1\n"
     ]
    }
   ],
   "source": [
    "%matplotlib inline\n",
    "\n",
    "!wget -O mieszkania.csv https://www.dropbox.com/s/zey0gx91pna8irj/mieszkania.csv?dl=1\n",
    "!wget -O mieszkania_test.csv https://www.dropbox.com/s/dbrj6sbxb4ayqjz/mieszkania_test.csv?dl=1"
   ]
  },
  {
   "cell_type": "code",
   "execution_count": 17,
   "metadata": {
    "colab": {
     "base_uri": "https://localhost:8080/"
    },
    "id": "yI9wFXv5-EoP",
    "outputId": "3d163d09-3108-498d-dc6e-73a549a16a72"
   },
   "outputs": [
    {
     "name": "stdout",
     "output_type": "stream",
     "text": [
      "==> mieszkania.csv <==\r\n",
      "m2,dzielnica,ilość_sypialni,ilość_łazienek,rok_budowy,parking_podziemny,cena\r\n",
      "104,mokotowo,2,2,1940,1,780094\r\n",
      "43,ochotowo,1,1,1970,1,346912\r\n",
      "128,grodziskowo,3,2,1916,1,523466\r\n",
      "112,mokotowo,3,2,1920,1,830965\r\n",
      "149,mokotowo,3,3,1977,0,1090479\r\n",
      "80,ochotowo,2,2,1937,0,599060\r\n",
      "58,ochotowo,2,1,1922,0,463639\r\n",
      "23,ochotowo,1,1,1929,0,166785\r\n",
      "40,mokotowo,1,1,1973,0,318849\r\n",
      "\r\n",
      "==> mieszkania_test.csv <==\r\n",
      "m2,dzielnica,ilość_sypialni,ilość_łazienek,rok_budowy,parking_podziemny,cena\r\n",
      "71,wolowo,2,2,1912,1,322227\r\n",
      "45,mokotowo,1,1,1938,0,295878\r\n",
      "38,mokotowo,1,1,1999,1,306530\r\n",
      "70,ochotowo,2,2,1980,1,553641\r\n",
      "136,mokotowo,3,2,1939,1,985348\r\n",
      "128,wolowo,3,2,1983,1,695726\r\n",
      "23,grodziskowo,1,1,1975,0,99751\r\n",
      "117,mokotowo,3,2,1942,0,891261\r\n",
      "65,ochotowo,2,1,2002,1,536499\r\n"
     ]
    }
   ],
   "source": [
    "!head mieszkania.csv mieszkania_test.csv"
   ]
  },
  {
   "cell_type": "code",
   "execution_count": 29,
   "metadata": {},
   "outputs": [],
   "source": [
    "import numpy as np\n",
    "import pandas as pd\n",
    "from typing import Tuple"
   ]
  },
  {
   "cell_type": "markdown",
   "metadata": {
    "id": "iH8Ut02G-EoU"
   },
   "source": [
    "Each row in the data represents a separate property. Our goal is to use the data from `mieszkania.csv` to create a model that can predict a property's price (i.e. `cena`) given its features (i.e. `m2,dzielnica,ilosc_sypialni,ilosc_lazienek,rok_budowy,parking_podziemny`).\n",
    "\n",
    "From now on, we should interfere only with `mieszkania.csv` (dubbed the training dataset) to make our decisions and create the model. The (only) purpose of `mieszkania_test.csv` is to test our model on **unseen** data.\n",
    "\n",
    "Our predictions should minimize the so-called mean squared logarithmic error:\n",
    "$$\n",
    "MSLE = \\frac{1}{n} \\sum_{i=1}^n (\\log(1+y_i) - \\log(1+p_i))^2,\n",
    "$$\n",
    "where $y_i$ is the ground truth, and $p_i$ is our prediction."
   ]
  },
  {
   "cell_type": "markdown",
   "metadata": {
    "id": "y8QX6Ncr-EoW"
   },
   "source": [
    "Let's start with implementing the loss function."
   ]
  },
  {
   "cell_type": "code",
   "execution_count": 31,
   "metadata": {
    "id": "JAiB8S9A-EoX"
   },
   "outputs": [],
   "source": [
    "def msle(ys, ps):\n",
    "    assert len(ys) == len(ps)\n",
    "    return np.mean((np.log(1 + ys) - np.log(1 + ps)) ** 2)"
   ]
  },
  {
   "cell_type": "markdown",
   "metadata": {
    "id": "zAmd2qLR-Eob"
   },
   "source": [
    "The simplest model is predicting the same constant for each instance. Test your implementation of msle against outputing the mean price."
   ]
  },
  {
   "cell_type": "code",
   "execution_count": 32,
   "metadata": {
    "id": "twQsADZhSwbH"
   },
   "outputs": [],
   "source": [
    "def load(name: str) -> Tuple[np.ndarray, np.array]:\n",
    "    data = pd.read_csv(name)\n",
    "    x = data.loc[:, data.columns != 'cena'].to_numpy()\n",
    "    y = data['cena'].to_numpy()\n",
    "    return x, y\n",
    "\n",
    "xs, ys = load('mieszkania.csv')\n",
    "b, f = xs.shape"
   ]
  },
  {
   "cell_type": "code",
   "execution_count": 33,
   "metadata": {
    "colab": {
     "base_uri": "https://localhost:8080/"
    },
    "id": "b0RT7VW7-Eoc",
    "outputId": "87b18b2d-f364-4d1e-cde7-a6fbf91517fb"
   },
   "outputs": [
    {
     "data": {
      "text/plain": [
       "0.3915253538257009"
      ]
     },
     "execution_count": 33,
     "metadata": {},
     "output_type": "execute_result"
    }
   ],
   "source": [
    "###################################################\n",
    "# TODO: Compute msle for outputing the mean price #\n",
    "###################################################\n",
    "\n",
    "ps1 = np.mean(ys) * np.ones(b)\n",
    "msle_for_mean = msle(ys, ps1)\n",
    "\n",
    "msle_for_mean"
   ]
  },
  {
   "cell_type": "markdown",
   "metadata": {
    "id": "a0zMmTiv-Eof"
   },
   "source": [
    "Recall that outputing the mean minimzes $MSE$. However, we're now dealing with $MSLE$.\n",
    "\n",
    "Think of a constant that should result in the lowest $MSLE$."
   ]
  },
  {
   "cell_type": "code",
   "execution_count": 21,
   "metadata": {
    "colab": {
     "base_uri": "https://localhost:8080/"
    },
    "id": "Q0Z4drNd-Eog",
    "outputId": "d8dca4c9-5719-4453-a1e6-451ad6760b5a"
   },
   "outputs": [
    {
     "data": {
      "text/plain": [
       "0.3648896122133589"
      ]
     },
     "execution_count": 21,
     "metadata": {},
     "output_type": "execute_result"
    }
   ],
   "source": [
    "#############################################\n",
    "# TODO: Find this constant and compute msle #\n",
    "#############################################\n",
    "magic_constant = (np.exp(np.mean(np.log(1 + ys))) - 1)\n",
    "\n",
    "magic_loss =  msle(ys, magic_constant  * np.ones(b))\n",
    "magic_loss"
   ]
  },
  {
   "cell_type": "markdown",
   "metadata": {
    "id": "2RdHlBw8-Eoi"
   },
   "source": [
    "Now, let's implement a standard linear regression model."
   ]
  },
  {
   "cell_type": "code",
   "execution_count": 22,
   "metadata": {
    "colab": {
     "base_uri": "https://localhost:8080/"
    },
    "id": "enM7xuoscdsh",
    "outputId": "3164e5ab-1c40-413c-a0ea-c2b98b0839db"
   },
   "outputs": [
    {
     "data": {
      "text/plain": [
       "(array([[104.,   2.,   2., ...,   1.,   0.,   0.],\n",
       "        [ 43.,   1.,   1., ...,   0.,   1.,   0.],\n",
       "        [128.,   3.,   2., ...,   0.,   0.,   0.],\n",
       "        ...,\n",
       "        [107.,   2.,   2., ...,   0.,   0.,   0.],\n",
       "        [117.,   3.,   2., ...,   0.,   0.,   0.],\n",
       "        [ 56.,   2.,   1., ...,   0.,   0.,   1.]]),\n",
       " array([ 780094.,  346912.,  523466.,  830965., 1090479.,  599060.,\n",
       "         463639.,  166785.,  318849., 1011395.,  429462., 1051608.,\n",
       "         563473.,  620449., 1097777.,  645200.,  776122.,  367862.,\n",
       "         257190., 1010002.,  381594.,  980560.,  291748.,  788216.,\n",
       "        1064711.,  758000.,  652028.,  515061.,  505024.,  479861.,\n",
       "         550903.,  112635.,  291166.,  128308.,  629152.,  482861.,\n",
       "         330775.,  453511.,  232030.,  392325.,  306354.,  922621.,\n",
       "         452189.,  994035.,  488394.,  384485.,  105554.,  496032.,\n",
       "         528212.,  156820.,  390186.,  331698.,  135225.,  712851.,\n",
       "         402870.,  637259.,  660215.,  434946.,  252762., 1050412.,\n",
       "         210945.,  348694.,  402507.,  612483.,  921607.,  285502.,\n",
       "         517526.,  388359.,  531316.,  145113.,  178450.,  326025.,\n",
       "         444404.,  121212.,  648685., 1003388.,  670914.,  598889.,\n",
       "         351276.,  765570.,  304487.,  501649., 1097512.,  447175.,\n",
       "         298909.,  622525.,  447540.,  558557.,  811992.,  121541.,\n",
       "         899364.,  186982.,  341128.,  791987.,  394355.,  131412.,\n",
       "         573502.,  410531.,  574496.,  218913.,  350428.,  224330.,\n",
       "         692160.,  251394.,  125855.,  265549.,  305315.,  109205.,\n",
       "         190482.,  245476.,  531676.,  357668.,  496512.,  140709.,\n",
       "         744412.,  768728.,  248627.,  102572.,  958576.,  467368.,\n",
       "         186215.,  220255.,  375026.,  219743.,  903464., 1102309.,\n",
       "         608600.,  417857.,  325748.,  408778.,  245951.,  697385.,\n",
       "         546285.,  637666.,  345360.,  248413.,  354607.,  389649.,\n",
       "         130641., 1100513.,  630450.,  558903.,  222816., 1073106.,\n",
       "         708477.,  447209., 1053417.,  303070.,  203537.,  180304.,\n",
       "         707922.,  166705.,  585887.,  580572.,  387258.,  274187.,\n",
       "         362964.,  353300.,  199711.,  862815.,  339335.,  457874.,\n",
       "         172921., 1020122.,  910244.,  869327.,  373949.,  587051.,\n",
       "         945500.,  388396., 1094328.,  352334.,  407464.,  418013.,\n",
       "         589086.,  769378.,  514881.,  813248.,  675146.,  523261.,\n",
       "         390050.,  990671.,  801478.,  546701.,  102990., 1074079.,\n",
       "         124960.,  777308.,  819635.,  528828.,  191494.,  507364.,\n",
       "         599801.,  603670.,  615854.,  378830.,  169832.,  473181.,\n",
       "         431076.,  308321.]))"
      ]
     },
     "execution_count": 22,
     "metadata": {},
     "output_type": "execute_result"
    }
   ],
   "source": [
    "def load2(name: str) -> Tuple[np.ndarray, np.array, np.ndarray]:\n",
    "    data = pd.read_csv(name)\n",
    "    x = data.loc[:, ((data.columns != 'cena') & (data.columns != 'dzielnica'))]\n",
    "    dum = data['dzielnica']\n",
    "    dum = pd.get_dummies(dum)\n",
    "    x = pd.concat([x, dum], axis=1)\n",
    "    y = data['cena']\n",
    "    return x.to_numpy().astype(float), y.to_numpy().astype(float)\n",
    "\n",
    "xs, ys = load2('mieszkania.csv')\n",
    "xs, ys"
   ]
  },
  {
   "cell_type": "code",
   "execution_count": 23,
   "metadata": {
    "id": "M5FFJ2xvJzzN"
   },
   "outputs": [],
   "source": [
    "def predict(weights, bias, xs):\n",
    "    return xs @ weights + bias\n",
    "\n",
    "def evaluate(weights, bias, xs, ys):\n",
    "    ps = predict(weights, bias, xs)\n",
    "    return msle(ys, ps)"
   ]
  },
  {
   "cell_type": "code",
   "execution_count": 24,
   "metadata": {
    "colab": {
     "base_uri": "https://localhost:8080/"
    },
    "id": "Vn97D3vd-Eoj",
    "outputId": "10d9833f-3353-46eb-fdc5-85228b55fcd1"
   },
   "outputs": [
    {
     "data": {
      "text/plain": [
       "0.07848135196344946"
      ]
     },
     "execution_count": 24,
     "metadata": {},
     "output_type": "execute_result"
    }
   ],
   "source": [
    "##########################################################\n",
    "# TODO: Implement linear regression and compute its msle #\n",
    "#########################################################\n",
    "def train(xs=xs, ys=ys):\n",
    "  b, f = xs.shape\n",
    "  weights = np.random.uniform(low=-1 / np.sqrt(f), high=1 / np.sqrt(f), size=[f]) # our initial guess for _a\n",
    "  bias =  np.mean(ys) # our initial guess for _b\n",
    "  lr = 1e-7 # step size\n",
    "  n_epochs = 100000 # number of passes over the training data\n",
    "\n",
    "  for i in range(n_epochs):\n",
    "    prediction = predict(weights, bias, xs)\n",
    "    grad_weights = 2/b * (xs.T @ (prediction - ys))\n",
    "    grad_bias = 2 * np.mean(prediction - ys)\n",
    "    weights -= lr * grad_weights\n",
    "    bias -= lr * grad_bias\n",
    "  return weights, bias\n",
    "\n",
    "x_test, y_test = load2('mieszkania_test.csv')\n",
    "\n",
    "weights1, bias1 = train()\n",
    "evaluate(weights1, bias1, x_test, y_test)\n"
   ]
  },
  {
   "cell_type": "markdown",
   "metadata": {
    "id": "nzrrOte5-Eol"
   },
   "source": [
    "Note that the loss function that the algorithms optimizes (i.e $MSE$) differs from $MSLE$. We've already seen that this may result in a suboptimal solution.\n",
    "\n",
    "How can you change the setting so that we optimze $MSLE$ instead?"
   ]
  },
  {
   "cell_type": "markdown",
   "metadata": {
    "id": "qVD8kWEJ-Eom"
   },
   "source": [
    "Hint:\n",
    "<sub><sup><sub><sup><sub><sup>\n",
    "Be lazy. We don't want to change the algorithm.\n",
    "</sup></sub></sup></sub></sup></sub>"
   ]
  },
  {
   "cell_type": "code",
   "execution_count": 25,
   "metadata": {
    "colab": {
     "base_uri": "https://localhost:8080/"
    },
    "id": "MniIPMg8-Eom",
    "outputId": "6698eb50-278d-4c10-bbdd-5dd63bc2a0ff"
   },
   "outputs": [
    {
     "data": {
      "text/plain": [
       "0.07861384941158826"
      ]
     },
     "execution_count": 25,
     "metadata": {},
     "output_type": "execute_result"
    }
   ],
   "source": [
    "#############################################\n",
    "# TODO: Optimize msle and compare the error #\n",
    "#############################################\n",
    "def train1(ys=ys, xs=xs):\n",
    "  b, f = xs.shape\n",
    "  weights = np.random.uniform(low=-1 / np.sqrt(f), high=1 / np.sqrt(f), size=[f]) # our initial guess for _a\n",
    "  bias =  magic_constant # our initial guess for _b\n",
    "  lr = 1e+4 # step size\n",
    "  n_epochs = 400000 # number of passes over the training data\n",
    "  for i in range(n_epochs):\n",
    "    prediction = predict(weights, bias, xs)\n",
    "    grad_help = 2 * (np.log(prediction + 1) - np.log(ys + 1)) / (1 + prediction)\n",
    "    grad_bias = np.mean(grad_help)\n",
    "    grad_weights = (1 / b) * xs.T @ grad_help\n",
    "    weights -= lr * grad_weights\n",
    "    bias -= lr * grad_bias\n",
    "  return weights, bias\n",
    "weights, bias = train1()\n",
    "evaluate(weights, bias, x_test, y_test)"
   ]
  },
  {
   "cell_type": "markdown",
   "metadata": {
    "id": "OvWrBkLu-Eoo"
   },
   "source": [
    "Without any feature engineering our model approximates the price as a linear combination of original features:\n",
    "$$\n",
    "\\text{price} \\approx w_1 \\cdot \\text{area} + w_2 \\cdot \\text{district} + \\dots.\n",
    "$$\n",
    "Let's now introduce some interactions between the variables. For instance, let's consider a following formula:\n",
    "$$\n",
    "\\text{price} \\approx w_1 \\cdot \\text{area} \\cdot \\text{avg. price in the district per sq. meter} + w_2 \\cdot \\dots + \\dots.\n",
    "$$\n",
    "Here, we model the price with far greater granularity, and we may expect to see more acurate results."
   ]
  },
  {
   "cell_type": "markdown",
   "metadata": {
    "id": "zBM60E7t-Eop"
   },
   "source": [
    "Add some feature engineering to your model. Be sure to play with the data and not with the algorithm's code.\n",
    "\n",
    "Think how to make sure that your model is capable of capturing the $w_1 \\cdot \\text{area} \\cdot \\text{avg. price...}$ part, without actually computing the averages."
   ]
  },
  {
   "cell_type": "markdown",
   "metadata": {
    "id": "XT5DziNC-Eoq"
   },
   "source": [
    "Hint:\n",
    "<sub><sup><sub><sup><sub><sup>\n",
    "Is having a binary encoding for each district and multiplying it by area enough?\n",
    "</sup></sub></sup></sub></sup></sub>"
   ]
  },
  {
   "cell_type": "markdown",
   "metadata": {
    "id": "PKOVCHNz-Eor"
   },
   "source": [
    "Hint 2:\n",
    "<sub><sup><sub><sup><sub><sup>\n",
    "Why not multiply everything together? I.e. (A,B,C) -> (AB,AC,BC).\n",
    "</sup></sub></sup></sub></sup></sub>"
   ]
  },
  {
   "cell_type": "code",
   "execution_count": 26,
   "metadata": {
    "id": "BOQfApDKPS-Z"
   },
   "outputs": [],
   "source": [
    "def load3(name: str) -> Tuple[np.ndarray, np.array, np.ndarray]:\n",
    "    data = pd.read_csv(name)\n",
    "    data['cenazametr'] = data['cena']/(data['m2'])\n",
    "    x = data.loc[:, ((data.columns != 'cena') & (data.columns != 'dzielnica'))]\n",
    "    dum = data['dzielnica']\n",
    "    dum = pd.get_dummies(dum)\n",
    "    x = pd.concat([x, dum], axis=1)\n",
    "    y = data['cena'].to_numpy()\n",
    "    return x, y"
   ]
  },
  {
   "cell_type": "code",
   "execution_count": 27,
   "metadata": {
    "colab": {
     "base_uri": "https://localhost:8080/",
     "height": 419
    },
    "id": "DPviz09O-Eor",
    "outputId": "36a88376-b661-423c-e366-ef5072124a7f"
   },
   "outputs": [
    {
     "data": {
      "text/html": [
       "<div>\n",
       "<style scoped>\n",
       "    .dataframe tbody tr th:only-of-type {\n",
       "        vertical-align: middle;\n",
       "    }\n",
       "\n",
       "    .dataframe tbody tr th {\n",
       "        vertical-align: top;\n",
       "    }\n",
       "\n",
       "    .dataframe thead th {\n",
       "        text-align: right;\n",
       "    }\n",
       "</style>\n",
       "<table border=\"1\" class=\"dataframe\">\n",
       "  <thead>\n",
       "    <tr style=\"text-align: right;\">\n",
       "      <th></th>\n",
       "      <th>m2</th>\n",
       "      <th>ilość_sypialni</th>\n",
       "      <th>ilość_łazienek</th>\n",
       "      <th>rok_budowy</th>\n",
       "      <th>parking_podziemny</th>\n",
       "      <th>cenazametr</th>\n",
       "      <th>grodziskowo</th>\n",
       "      <th>mokotowo</th>\n",
       "      <th>ochotowo</th>\n",
       "      <th>wolowo</th>\n",
       "    </tr>\n",
       "  </thead>\n",
       "  <tbody>\n",
       "    <tr>\n",
       "      <th>0</th>\n",
       "      <td>104</td>\n",
       "      <td>2</td>\n",
       "      <td>2</td>\n",
       "      <td>1940</td>\n",
       "      <td>1</td>\n",
       "      <td>7500.903846</td>\n",
       "      <td>False</td>\n",
       "      <td>True</td>\n",
       "      <td>False</td>\n",
       "      <td>False</td>\n",
       "    </tr>\n",
       "    <tr>\n",
       "      <th>1</th>\n",
       "      <td>43</td>\n",
       "      <td>1</td>\n",
       "      <td>1</td>\n",
       "      <td>1970</td>\n",
       "      <td>1</td>\n",
       "      <td>8067.720930</td>\n",
       "      <td>False</td>\n",
       "      <td>False</td>\n",
       "      <td>True</td>\n",
       "      <td>False</td>\n",
       "    </tr>\n",
       "    <tr>\n",
       "      <th>2</th>\n",
       "      <td>128</td>\n",
       "      <td>3</td>\n",
       "      <td>2</td>\n",
       "      <td>1916</td>\n",
       "      <td>1</td>\n",
       "      <td>4089.578125</td>\n",
       "      <td>True</td>\n",
       "      <td>False</td>\n",
       "      <td>False</td>\n",
       "      <td>False</td>\n",
       "    </tr>\n",
       "    <tr>\n",
       "      <th>3</th>\n",
       "      <td>112</td>\n",
       "      <td>3</td>\n",
       "      <td>2</td>\n",
       "      <td>1920</td>\n",
       "      <td>1</td>\n",
       "      <td>7419.330357</td>\n",
       "      <td>False</td>\n",
       "      <td>True</td>\n",
       "      <td>False</td>\n",
       "      <td>False</td>\n",
       "    </tr>\n",
       "    <tr>\n",
       "      <th>4</th>\n",
       "      <td>149</td>\n",
       "      <td>3</td>\n",
       "      <td>3</td>\n",
       "      <td>1977</td>\n",
       "      <td>0</td>\n",
       "      <td>7318.651007</td>\n",
       "      <td>False</td>\n",
       "      <td>True</td>\n",
       "      <td>False</td>\n",
       "      <td>False</td>\n",
       "    </tr>\n",
       "    <tr>\n",
       "      <th>...</th>\n",
       "      <td>...</td>\n",
       "      <td>...</td>\n",
       "      <td>...</td>\n",
       "      <td>...</td>\n",
       "      <td>...</td>\n",
       "      <td>...</td>\n",
       "      <td>...</td>\n",
       "      <td>...</td>\n",
       "      <td>...</td>\n",
       "      <td>...</td>\n",
       "    </tr>\n",
       "    <tr>\n",
       "      <th>195</th>\n",
       "      <td>54</td>\n",
       "      <td>1</td>\n",
       "      <td>1</td>\n",
       "      <td>1992</td>\n",
       "      <td>1</td>\n",
       "      <td>7015.370370</td>\n",
       "      <td>False</td>\n",
       "      <td>True</td>\n",
       "      <td>False</td>\n",
       "      <td>False</td>\n",
       "    </tr>\n",
       "    <tr>\n",
       "      <th>196</th>\n",
       "      <td>35</td>\n",
       "      <td>1</td>\n",
       "      <td>1</td>\n",
       "      <td>1985</td>\n",
       "      <td>1</td>\n",
       "      <td>4852.342857</td>\n",
       "      <td>True</td>\n",
       "      <td>False</td>\n",
       "      <td>False</td>\n",
       "      <td>False</td>\n",
       "    </tr>\n",
       "    <tr>\n",
       "      <th>197</th>\n",
       "      <td>107</td>\n",
       "      <td>2</td>\n",
       "      <td>2</td>\n",
       "      <td>1935</td>\n",
       "      <td>0</td>\n",
       "      <td>4422.252336</td>\n",
       "      <td>True</td>\n",
       "      <td>False</td>\n",
       "      <td>False</td>\n",
       "      <td>False</td>\n",
       "    </tr>\n",
       "    <tr>\n",
       "      <th>198</th>\n",
       "      <td>117</td>\n",
       "      <td>3</td>\n",
       "      <td>2</td>\n",
       "      <td>1978</td>\n",
       "      <td>1</td>\n",
       "      <td>3684.410256</td>\n",
       "      <td>True</td>\n",
       "      <td>False</td>\n",
       "      <td>False</td>\n",
       "      <td>False</td>\n",
       "    </tr>\n",
       "    <tr>\n",
       "      <th>199</th>\n",
       "      <td>56</td>\n",
       "      <td>2</td>\n",
       "      <td>1</td>\n",
       "      <td>1923</td>\n",
       "      <td>0</td>\n",
       "      <td>5505.732143</td>\n",
       "      <td>False</td>\n",
       "      <td>False</td>\n",
       "      <td>False</td>\n",
       "      <td>True</td>\n",
       "    </tr>\n",
       "  </tbody>\n",
       "</table>\n",
       "<p>200 rows × 10 columns</p>\n",
       "</div>"
      ],
      "text/plain": [
       "      m2  ilość_sypialni  ilość_łazienek  rok_budowy  parking_podziemny  \\\n",
       "0    104               2               2        1940                  1   \n",
       "1     43               1               1        1970                  1   \n",
       "2    128               3               2        1916                  1   \n",
       "3    112               3               2        1920                  1   \n",
       "4    149               3               3        1977                  0   \n",
       "..   ...             ...             ...         ...                ...   \n",
       "195   54               1               1        1992                  1   \n",
       "196   35               1               1        1985                  1   \n",
       "197  107               2               2        1935                  0   \n",
       "198  117               3               2        1978                  1   \n",
       "199   56               2               1        1923                  0   \n",
       "\n",
       "      cenazametr  grodziskowo  mokotowo  ochotowo  wolowo  \n",
       "0    7500.903846        False      True     False   False  \n",
       "1    8067.720930        False     False      True   False  \n",
       "2    4089.578125         True     False     False   False  \n",
       "3    7419.330357        False      True     False   False  \n",
       "4    7318.651007        False      True     False   False  \n",
       "..           ...          ...       ...       ...     ...  \n",
       "195  7015.370370        False      True     False   False  \n",
       "196  4852.342857         True     False     False   False  \n",
       "197  4422.252336         True     False     False   False  \n",
       "198  3684.410256         True     False     False   False  \n",
       "199  5505.732143        False     False     False    True  \n",
       "\n",
       "[200 rows x 10 columns]"
      ]
     },
     "execution_count": 27,
     "metadata": {},
     "output_type": "execute_result"
    }
   ],
   "source": [
    "###############################################\n",
    "# TODO: Implement the feature engineering part#\n",
    "###############################################\n",
    "xs, ys = load3('mieszkania.csv')\n",
    "xs\n"
   ]
  },
  {
   "cell_type": "code",
   "execution_count": 28,
   "metadata": {
    "id": "v2Lj1TPr-Eot"
   },
   "outputs": [],
   "source": [
    "##############################################################\n",
    "# TODO: Test your solution on the training and test datasets #\n",
    "##############################################################"
   ]
  },
  {
   "cell_type": "code",
   "execution_count": null,
   "metadata": {},
   "outputs": [],
   "source": []
  }
 ],
 "metadata": {
  "colab": {
   "provenance": []
  },
  "kernelspec": {
   "display_name": "Python 3 (ipykernel)",
   "language": "python",
   "name": "python3"
  },
  "language_info": {
   "codemirror_mode": {
    "name": "ipython",
    "version": 3
   },
   "file_extension": ".py",
   "mimetype": "text/x-python",
   "name": "python",
   "nbconvert_exporter": "python",
   "pygments_lexer": "ipython3",
   "version": "3.11.5"
  }
 },
 "nbformat": 4,
 "nbformat_minor": 1
}
