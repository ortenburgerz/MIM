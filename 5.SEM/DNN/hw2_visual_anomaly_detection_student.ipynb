{
 "cells": [
  {
   "cell_type": "markdown",
   "metadata": {
    "id": "qZl3nj8_y4XE"
   },
   "source": [
    "# Low-shot visual anomaly detection (v2)\n",
    "\n",
    "*This is the second version of the homework with some additional clarifications and changes in the task descriptions (see slack channel for details). The code remains untouched.*\n",
    "\n",
    "In this notebook you'll investigate visual anomaly detection in a typical industrial setting - we don't have much data and we can train only only normal (non-anomalous) examples.\n",
    "Read the [PADIM paper](https://arxiv.org/pdf/2011.08785.pdf) carefully.\n",
    "The code here is based on the original implementation from its authors.\n",
    "\n",
    "If you have any questions - please write them on slack in the channel.\n",
    "\n",
    "### Bibliography\n",
    "\n",
    "1. Defard, T., Setkov, A., Loesch, A., & Audigier, R. (2021). [Padim: a patch distribution modeling framework for anomaly detection and localization](https://arxiv.org/pdf/2011.08785.pdf). In International Conference on Pattern Recognition (pp. 475-489). Cham: Springer International Publishing."
   ]
  },
  {
   "cell_type": "markdown",
   "metadata": {
    "id": "PnOowoSWy4XI"
   },
   "source": [
    "## Data\n",
    "\n",
    "In case of any problems - please visit [MVTec AD](https://www.mvtec.com/company/research/datasets/mvtec-ad/downloads) to get the access to the data."
   ]
  },
  {
   "cell_type": "code",
   "execution_count": 1,
   "metadata": {
    "id": "1MHy3ZgIy4XI",
    "ExecuteTime": {
     "end_time": "2023-12-19T03:52:46.210649Z",
     "start_time": "2023-12-19T03:52:04.044380Z"
    }
   },
   "outputs": [
    {
     "name": "stdout",
     "output_type": "stream",
     "text": [
      "Note: you may need to restart the kernel to use updated packages.\n"
     ]
    }
   ],
   "source": [
    "%pip install --quiet gdown  # for those who don't run it on Google Colab\n",
    "!gdown -q '1r7WJeDb-E5zzgQSOx7F7bNWg8kYX3yKE'\n",
    "!gdown -q '1Kb420ygkN1iBni5Iy_-psLGNoY0gQFk9'\n",
    "!gdown -q '12wDP9I3aVIr1qLekWY3GLhQO7c6SRhGn'"
   ]
  },
  {
   "cell_type": "code",
   "execution_count": 2,
   "metadata": {
    "id": "SQ32VdDGy4XJ",
    "ExecuteTime": {
     "end_time": "2023-12-19T03:52:46.221069Z",
     "start_time": "2023-12-19T03:52:46.213192Z"
    }
   },
   "outputs": [],
   "source": [
    "from pathlib import Path\n",
    "import tarfile\n",
    "\n",
    "DATA_PATH = Path('./mvtec_anomaly_detection')\n",
    "DATA_PATH.mkdir(exist_ok=True)\n",
    "\n",
    "for class_name in ['bottle', 'metal_nut', 'transistor']:\n",
    "    if not (DATA_PATH / class_name).exists():\n",
    "        with tarfile.open(class_name + '.tar.xz') as tar:\n",
    "            tar.extractall(path=DATA_PATH)"
   ]
  },
  {
   "cell_type": "markdown",
   "metadata": {
    "id": "mZN-Z0Ncy4XK"
   },
   "source": [
    "## PADIM implementation"
   ]
  },
  {
   "cell_type": "code",
   "execution_count": 3,
   "metadata": {
    "id": "vdN_QcpVy4XK",
    "ExecuteTime": {
     "end_time": "2023-12-19T03:52:49.362672Z",
     "start_time": "2023-12-19T03:52:46.221866Z"
    }
   },
   "outputs": [],
   "source": [
    "import os\n",
    "import random\n",
    "import time\n",
    "from pathlib import Path\n",
    "from random import sample\n",
    "from typing import cast, Any, Dict, List, Optional, Tuple\n",
    "\n",
    "import pandas as pd\n",
    "import matplotlib.pyplot as plt\n",
    "import numpy as np\n",
    "import torch\n",
    "import torch.backends, torch.backends.mps\n",
    "import torch.nn.functional as F\n",
    "from numpy.typing import NDArray\n",
    "from matplotlib import colors\n",
    "from PIL import Image\n",
    "from sklearn.metrics import roc_auc_score, roc_curve, precision_recall_curve\n",
    "from scipy.spatial.distance import mahalanobis\n",
    "from scipy.ndimage import gaussian_filter\n",
    "from skimage import morphology\n",
    "from skimage.segmentation import mark_boundaries\n",
    "from torch.utils.data import DataLoader, Dataset\n",
    "from torchvision.models import wide_resnet50_2, resnet18, Wide_ResNet50_2_Weights, ResNet18_Weights\n",
    "from torch import nn\n",
    "from torchvision import transforms as T\n",
    "from tqdm import tqdm\n",
    "from torch.utils.data.sampler import SubsetRandomSampler\n",
    "\n",
    "FloatNDArray = NDArray[np.float32]"
   ]
  },
  {
   "cell_type": "code",
   "execution_count": 4,
   "metadata": {
    "id": "_p578WuGy4XK",
    "ExecuteTime": {
     "end_time": "2023-12-19T03:52:49.366866Z",
     "start_time": "2023-12-19T03:52:49.364299Z"
    }
   },
   "outputs": [],
   "source": [
    "# Leave it as is if you're unsure, this notebook will guess this for you below.\n",
    "DEVICE: Optional[torch.device] = None\n",
    "SEED: int = 42  # do not modify\n",
    "\n",
    "plt.style.use(\"dark_background\")"
   ]
  },
  {
   "cell_type": "code",
   "execution_count": 5,
   "metadata": {
    "id": "-ClM_vcCy4XL",
    "ExecuteTime": {
     "end_time": "2023-12-19T03:52:49.370687Z",
     "start_time": "2023-12-19T03:52:49.367579Z"
    }
   },
   "outputs": [],
   "source": [
    "def seed_all(seed: int = 0) -> None:\n",
    "    random.seed(seed)\n",
    "    np.random.seed(seed)\n",
    "    torch.manual_seed(seed)\n",
    "    if torch.cuda.is_available():\n",
    "        torch.cuda.manual_seed_all(seed)\n",
    "\n",
    "\n",
    "def get_best_device_for_pytorch() -> torch.device:\n",
    "    if torch.cuda.is_available():\n",
    "        device_str = \"cuda\"     # GPU\n",
    "    elif hasattr(torch.backends, \"mps\") and torch.backends.mps.is_available():\n",
    "        device_str = \"mps\"      # Apple silicon\n",
    "    else:\n",
    "        device_str = \"cpu\"      # CPU\n",
    "    return torch.device(device_str)"
   ]
  },
  {
   "cell_type": "code",
   "execution_count": 6,
   "metadata": {
    "id": "NR2J47JZy4XL",
    "outputId": "19078b9e-9f21-4769-df10-ee9d0a72a199",
    "colab": {
     "base_uri": "https://localhost:8080/"
    },
    "ExecuteTime": {
     "end_time": "2023-12-19T03:52:49.402043Z",
     "start_time": "2023-12-19T03:52:49.397687Z"
    }
   },
   "outputs": [
    {
     "name": "stdout",
     "output_type": "stream",
     "text": [
      "Using PyTorch with mps backend.\n",
      "Seeded everything with 42.\n"
     ]
    }
   ],
   "source": [
    "if not DEVICE:\n",
    "    DEVICE = get_best_device_for_pytorch()\n",
    "print(f\"Using PyTorch with {DEVICE} backend.\")\n",
    "\n",
    "seed_all(SEED)\n",
    "print(f\"Seeded everything with {SEED}.\")"
   ]
  },
  {
   "cell_type": "markdown",
   "metadata": {
    "id": "Yt3Vf2Lty4XM"
   },
   "source": [
    "### MVTecDataset"
   ]
  },
  {
   "cell_type": "code",
   "execution_count": 7,
   "metadata": {
    "id": "rVZQ5PQGy4XM",
    "ExecuteTime": {
     "end_time": "2023-12-19T03:52:49.410965Z",
     "start_time": "2023-12-19T03:52:49.401494Z"
    }
   },
   "outputs": [],
   "source": [
    "class MVTecDataset(Dataset[Tuple[torch.Tensor, int, torch.Tensor]]):\n",
    "    \"\"\"MVTec dataset of industrial objects with and without anomalies.\n",
    "\n",
    "    Yields (x, y, mask) tuples where:\n",
    "    - x is an RGB image from the class, as float tensor of shape (3, cropsize, cropsize);\n",
    "    - y is an int, 0 for good images, 1 for anomalous images;\n",
    "    - mask is 0 for normal pixels, 1 for anomalous pixels, as float tensor of shape (1, cropsize, cropsize).\n",
    "\n",
    "    Source: https://github.com/xiahaifeng1995/PaDiM-Anomaly-Detection-Localization-master/blob/main/datasets/mvtec.py\n",
    "    \"\"\"\n",
    "\n",
    "    def __init__(self, dataset_path: Path, class_name: str = 'bottle',\n",
    "                 is_train: bool = True, resize: int = 256, cropsize: int = 224, return_only_indices=False):\n",
    "        self.dataset_path = dataset_path\n",
    "        self.class_name = class_name\n",
    "        assert (dataset_path / class_name).is_dir(), f'Dataset class not found: {dataset_path / class_name}'\n",
    "        self.is_train = is_train\n",
    "\n",
    "        self.resize = resize\n",
    "        self.cropsize = cropsize\n",
    "\n",
    "        # load dataset\n",
    "        self.x, self.y, self.mask = self.load_dataset_folder()\n",
    "\n",
    "        # set transforms\n",
    "        self.transform_x = T.Compose([T.Resize(resize, Image.LANCZOS),\n",
    "                                      T.CenterCrop(cropsize),\n",
    "                                      T.ToTensor(),\n",
    "                                      T.Normalize(mean=[0.485, 0.456, 0.406],\n",
    "                                                  std=[0.229, 0.224, 0.225])])\n",
    "        self.transform_mask = T.Compose([T.Resize(resize, Image.NEAREST),\n",
    "                                         T.CenterCrop(cropsize),\n",
    "                                         T.ToTensor()])\n",
    "\n",
    "        self.return_only_indices = return_only_indices\n",
    "\n",
    "    def __getitem__(self, idx: int) -> Tuple[torch.Tensor, int, torch.Tensor]:\n",
    "        if self.return_only_indices:  # Used for checking the answer of T1.1.\n",
    "            return idx\n",
    "\n",
    "        x, y, mask = self.x[idx], self.y[idx], self.mask[idx]\n",
    "\n",
    "        x = Image.open(x).convert('RGB')\n",
    "        x = cast(torch.Tensor, self.transform_x(x))\n",
    "\n",
    "        if y == 0:\n",
    "            mask = torch.zeros([1, self.cropsize, self.cropsize])\n",
    "        else:\n",
    "            assert mask is not None\n",
    "            mask = Image.open(mask)\n",
    "            mask = cast(torch.Tensor, self.transform_mask(mask))\n",
    "\n",
    "        return x, y, mask\n",
    "\n",
    "    def __len__(self) -> int:\n",
    "        return len(self.x)\n",
    "\n",
    "    def load_dataset_folder(self) -> Tuple[List[Path], List[int], List[Optional[Path]]]:\n",
    "        phase = 'train' if self.is_train else 'test'\n",
    "        x: List[Path] = []\n",
    "        y: List[int] = []\n",
    "        mask: List[Optional[Path]] = []\n",
    "\n",
    "        img_dir = self.dataset_path / self.class_name / phase\n",
    "        gt_dir = self.dataset_path / self.class_name / 'ground_truth'\n",
    "\n",
    "        for img_type_dir in sorted(img_dir.iterdir()):\n",
    "            # Load images.\n",
    "            if not img_type_dir.is_dir():\n",
    "                continue\n",
    "            img_fpath_list = sorted(img_type_dir.glob('*.png'))\n",
    "            x.extend(img_fpath_list)\n",
    "\n",
    "            # Load ground-truth labels and masks.\n",
    "            if img_type_dir.name == 'good':\n",
    "                y.extend([0] * len(img_fpath_list))\n",
    "                mask.extend([None] * len(img_fpath_list))\n",
    "            else:\n",
    "                y.extend([1] * len(img_fpath_list))\n",
    "                mask.extend([gt_dir / img_type_dir.name / (f.stem + '_mask.png')\n",
    "                            for f in img_fpath_list])\n",
    "\n",
    "        assert len(x) == len(y) == len(mask), 'Number of x, y, and mask should be the same.'\n",
    "        return x, y, mask"
   ]
  },
  {
   "cell_type": "code",
   "execution_count": 8,
   "metadata": {
    "id": "LwbU0liYy4XM",
    "ExecuteTime": {
     "end_time": "2023-12-19T03:52:49.440763Z",
     "start_time": "2023-12-19T03:52:49.420100Z"
    }
   },
   "outputs": [],
   "source": [
    "def sample_idx(number_of_features: int, max_number_of_features: int) -> torch.Tensor:\n",
    "    assert number_of_features <= max_number_of_features\n",
    "    return torch.tensor(sample(range(0, max_number_of_features), number_of_features))\n",
    "\n",
    "\n",
    "def denormalization(x: FloatNDArray) -> NDArray[np.uint8]:\n",
    "    \"\"\"Denormalize with ImageNet values.\"\"\"\n",
    "    mean = np.array([0.485, 0.456, 0.406])\n",
    "    std = np.array([0.229, 0.224, 0.225])\n",
    "    return (((x.transpose(1, 2, 0) * std) + mean) * 255.).astype(np.uint8)\n",
    "\n",
    "\n",
    "def embedding_concat(x: torch.Tensor, y: torch.Tensor) -> torch.Tensor:\n",
    "    \"\"\"\n",
    "    Concatenate embeddings (along the channel dimension, upscaling y to match x).\n",
    "\n",
    "    Args:\n",
    "        x: Tensor of shape (B, C1, H1, W1).\n",
    "        y: Tensor of shape (B, C2, H2, W2).\n",
    "\n",
    "    Returns:\n",
    "        Tensor of shape is (B, C1 + C2, H1, W1).\n",
    "    \"\"\"\n",
    "    B, C1, H1, W1 = x.size()\n",
    "    _, C2, H2, W2 = y.size()\n",
    "    s = int(H1 / H2)\n",
    "    x = F.unfold(x, kernel_size=s, dilation=1, stride=s)\n",
    "    x = x.view(B, C1, s * s, H2, W2)\n",
    "    z = torch.zeros(B, C1 + C2, s * s, H2, W2).to(x.device)\n",
    "    for i in range(s * s):\n",
    "        z[:, :, i, :, :] = torch.cat((x[:, :, i, :, :], y), dim=1)\n",
    "    z = z.view(B, -1, H2 * W2)\n",
    "    z = F.fold(z, kernel_size=s, output_size=(H1, W1), stride=s)\n",
    "    return z\n",
    "\n",
    "def concatenate_embeddings_from_all_layers(layer_outputs: Dict[str, torch.Tensor]) -> torch.Tensor:\n",
    "        embedding_vectors = layer_outputs['layer1']\n",
    "        for layer_name in ['layer2', 'layer3']:\n",
    "            embedding_vectors = embedding_concat(embedding_vectors, layer_outputs[layer_name])\n",
    "        return embedding_vectors\n",
    "\n",
    "def plot_fig(test_img, scores, gts, threshold: float, save_dir: Path, class_name: str):\n",
    "    num = len(scores)\n",
    "    vmax = scores.max() * 255.\n",
    "    vmin = scores.min() * 255.\n",
    "    for i in range(num):\n",
    "        img = test_img[i]\n",
    "        img = denormalization(img)\n",
    "        gt = gts[i].transpose(1, 2, 0).squeeze()\n",
    "        heat_map = scores[i] * 255\n",
    "        mask = scores[i]\n",
    "        mask[mask > threshold] = 1\n",
    "        mask[mask <= threshold] = 0\n",
    "        kernel = morphology.disk(4)\n",
    "        mask = morphology.opening(mask, kernel)\n",
    "        mask *= 255\n",
    "        vis_img = mark_boundaries(img, mask, color=(1, 0, 0), mode='thick')\n",
    "        fig_img, ax_img = plt.subplots(1, 5, figsize=(12, 3))\n",
    "        fig_img.subplots_adjust(right=0.9)\n",
    "        norm = colors.Normalize(vmin=vmin, vmax=vmax)\n",
    "        for ax_i in ax_img:\n",
    "            ax_i.axes.xaxis.set_visible(False)\n",
    "            ax_i.axes.yaxis.set_visible(False)\n",
    "        ax_img[0].imshow(img)\n",
    "        ax_img[0].title.set_text('Image')\n",
    "        ax_img[1].imshow(gt, cmap='gray')\n",
    "        ax_img[1].title.set_text('GroundTruth')\n",
    "        ax = ax_img[2].imshow(heat_map, cmap='jet', norm=norm)\n",
    "        ax_img[2].imshow(img, cmap='gray', interpolation='none')\n",
    "        ax_img[2].imshow(heat_map, cmap='jet', alpha=0.5, interpolation='none')\n",
    "        ax_img[2].title.set_text('Predicted heat map')\n",
    "        ax_img[3].imshow(mask, cmap='gray')\n",
    "        ax_img[3].title.set_text('Predicted mask')\n",
    "        ax_img[4].imshow(vis_img)\n",
    "        ax_img[4].title.set_text('Segmentation result')\n",
    "        left = 0.92\n",
    "        bottom = 0.15\n",
    "        width = 0.015\n",
    "        height = 1 - 2 * bottom\n",
    "        rect = [left, bottom, width, height]\n",
    "        cbar_ax = fig_img.add_axes(rect)\n",
    "        cb = plt.colorbar(ax, shrink=0.6, cax=cbar_ax, fraction=0.046)\n",
    "        cb.ax.tick_params(labelsize=8)\n",
    "        font = {\n",
    "            'family': 'serif',\n",
    "            'color': 'black',\n",
    "            'weight': 'normal',\n",
    "            'size': 8,\n",
    "        }\n",
    "        cb.set_label('Anomaly Score', fontdict=font)\n",
    "\n",
    "        fig_img.savefig(save_dir / f'{class_name}_{i}', dpi=100)\n",
    "        plt.close()"
   ]
  },
  {
   "cell_type": "code",
   "execution_count": 9,
   "metadata": {
    "id": "u8POndaIy4XN",
    "ExecuteTime": {
     "end_time": "2023-12-19T03:52:49.444730Z",
     "start_time": "2023-12-19T03:52:49.423543Z"
    }
   },
   "outputs": [],
   "source": [
    "def get_feature_extractor(arch: str) -> nn.Module:\n",
    "    if arch == 'resnet18':\n",
    "        model = resnet18(weights=ResNet18_Weights.IMAGENET1K_V1, progress=True)\n",
    "        # t_d = 448\n",
    "        # d = 40\n",
    "    elif arch == 'wide_resnet50_2':\n",
    "        model = wide_resnet50_2(weights=Wide_ResNet50_2_Weights.IMAGENET1K_V1, progress=True)\n",
    "        # t_d = 1792\n",
    "        # d = 550\n",
    "    else:\n",
    "        raise NotImplementedError\n",
    "    return model"
   ]
  },
  {
   "cell_type": "markdown",
   "metadata": {
    "id": "XYf8w9kTy4XN"
   },
   "source": [
    "### PADIM class"
   ]
  },
  {
   "cell_type": "code",
   "execution_count": 10,
   "metadata": {
    "id": "4If8mMd0y4XN",
    "ExecuteTime": {
     "end_time": "2023-12-19T03:52:49.472551Z",
     "start_time": "2023-12-19T03:52:49.427884Z"
    }
   },
   "outputs": [],
   "source": [
    "class PADIM():\n",
    "\n",
    "    def __init__(\n",
    "            self,\n",
    "            backbone: str,\n",
    "            device: torch.device,\n",
    "            save_path: Path,\n",
    "            backbone_features_idx: torch.Tensor,\n",
    "            class_names: List[str] = [\"bottle\"],\n",
    "            plot_metrics: bool = False,\n",
    "    ) -> None:\n",
    "        self.arch = backbone\n",
    "        self.device = device\n",
    "        self.model = get_feature_extractor(backbone)\n",
    "        self.model.to(device)\n",
    "        self.model.eval()\n",
    "\n",
    "        self.feature_subset_indices = backbone_features_idx\n",
    "        self.feature_subset_indices.to(device)\n",
    "\n",
    "        self.outputs: Dict[str, torch.Tensor] = {}\n",
    "\n",
    "        self.class_names = class_names\n",
    "        self.save_path = save_path\n",
    "        self.plot_metrics = plot_metrics\n",
    "\n",
    "        self.setup_hooks()\n",
    "        (self.save_path / f'temp_{self.arch}').mkdir(parents=True, exist_ok=True)\n",
    "\n",
    "        self.mean: FloatNDArray  # shape (C, H * W)\n",
    "        self.cov: FloatNDArray  # shape (C, C, H * W)\n",
    "\n",
    "    def setup_hooks(self):\n",
    "        \"\"\"Setup hooks to store model's intermediate outputs.\"\"\"\n",
    "        self.model.layer1[-1].register_forward_hook(lambda _, __, x: self.outputs.update({'layer1': x}))\n",
    "        self.model.layer2[-1].register_forward_hook(lambda _, __, x: self.outputs.update({'layer2': x}))\n",
    "        self.model.layer3[-1].register_forward_hook(lambda _, __, x: self.outputs.update({'layer3': x}))\n",
    "\n",
    "    def train_and_test(self, train_dataloader: DataLoader, test_dataloader: DataLoader) -> float:\n",
    "        self.train(train_dataloader)\n",
    "        return self.test(test_dataloader)\n",
    "\n",
    "    def train(self, train_dataloader: DataLoader) -> None:\n",
    "        self.train_outputs: Dict[str, List[torch.Tensor]] = {'layer1': [], 'layer2': [], 'layer3': []}\n",
    "        for x, _, _ in tqdm(train_dataloader, desc='Feature extraction (train)'):\n",
    "            # Run model prediction.\n",
    "            with torch.no_grad():\n",
    "                _ = self.model(x.to(DEVICE))\n",
    "            # Get intermediate layer outputs.\n",
    "            assert list(self.outputs.keys())  == ['layer1', 'layer2', 'layer3'], list(self.outputs.keys())\n",
    "            for k, v in self.outputs.items():\n",
    "                self.train_outputs[k].append(v.cpu().detach())\n",
    "            # Reset hook outputs.\n",
    "            self.outputs = {}\n",
    "\n",
    "        embedding_vectors = concatenate_embeddings_from_all_layers(\n",
    "            {k: torch.cat(v, 0) for k, v in self.train_outputs.items()})\n",
    "        embedding_vectors_subset = torch.index_select(embedding_vectors, 1, self.feature_subset_indices.cpu())\n",
    "\n",
    "        self.mean, self.cov = self.estimate_multivariate_gaussian(embedding_vectors_subset)\n",
    "        del(self.train_outputs)\n",
    "\n",
    "    def estimate_multivariate_gaussian(self, embedding_vectors: torch.Tensor\n",
    "                                       ) -> Tuple[FloatNDArray, FloatNDArray]:\n",
    "        \"\"\"Calculates multivariate Gaussian distribution.\n",
    "\n",
    "        Takes embeddings of shape (N, C, H, W).\n",
    "        Returns (mean, covariance) of shape (C, H * W) and (C, C, H * W) respectively.\n",
    "        \"\"\"\n",
    "        B, C, H, W = embedding_vectors.size()\n",
    "        embedding_vectors = embedding_vectors.view(B, C, H * W)\n",
    "        mean = torch.mean(embedding_vectors, dim=0).numpy()\n",
    "        cov = torch.zeros(C, C, H * W).numpy()\n",
    "        I = np.identity(C)\n",
    "        for i in tqdm(range(H * W), desc=\"Covariance estimation\"):\n",
    "            cov[:, :, i] = np.cov(embedding_vectors[:, :, i].numpy(), rowvar=False) + 0.01 * I\n",
    "        return mean, cov\n",
    "\n",
    "    def test(self, test_dataloader: DataLoader) -> float:\n",
    "        self.test_outputs: Dict[str, List[torch.Tensor]] = {'layer1': [], 'layer2': [], 'layer3': []}\n",
    "        test_imgs: List[FloatNDArray] = []\n",
    "        gt_list: List[NDArray[Any]] = []\n",
    "        gt_mask_list: List[FloatNDArray] = []\n",
    "\n",
    "        # Extract test set features.\n",
    "        for x, y, mask in tqdm(test_dataloader, desc='Feature extraction (test)', disable=False):\n",
    "            x_shape = x.shape\n",
    "            test_imgs.extend(x.cpu().detach().numpy())\n",
    "            gt_list.extend(y.cpu().detach().numpy())\n",
    "            gt_mask_list.extend(mask.cpu().detach().numpy())\n",
    "            # Run model prediction.\n",
    "            with torch.no_grad():\n",
    "                _ = self.model(x.to(DEVICE))\n",
    "            # Get intermediate layer outputs.\n",
    "            assert list(self.outputs.keys())  == ['layer1', 'layer2', 'layer3']\n",
    "            for k, v in self.outputs.items():\n",
    "                self.test_outputs[k].append(v.cpu().detach())\n",
    "            # Reset hook outputs.\n",
    "            self.outputs = {}\n",
    "        gt_mask = np.asarray(gt_mask_list)  # shape (len(test_dataset), 1, H, W)\n",
    "\n",
    "        embedding_vectors = concatenate_embeddings_from_all_layers(\n",
    "            {k: torch.cat(v, 0) for k, v in self.test_outputs.items()})\n",
    "        # shape (len(test_dataset), len(feature_subset_indices), H1, W1)\n",
    "        embedding_vectors_subset = torch.index_select(embedding_vectors, 1, self.feature_subset_indices.cpu())\n",
    "\n",
    "        distances = self.calculate_distances(embedding_vectors_subset)\n",
    "        score_map = self.prepare_anomaly_map((x_shape[2], x_shape[3]), distances)\n",
    "\n",
    "        img_fpr, img_tpr, img_auroc = self.calculate_auroc_image_level(score_map, gt_list)\n",
    "        pxl_fpr, pxl_tpr, pxl_auroc = self.calculate_auroc_pixel_level(score_map, gt_mask)\n",
    "\n",
    "        if self.plot_metrics:\n",
    "            print(f'[TEST] Image AUROC: {img_auroc:.3f}')\n",
    "            print(f'[TEST] Pixel AUROC: {pxl_auroc:.3f}')\n",
    "            threshold = self.calculate_optimal_threshold(score_map, gt_mask)\n",
    "            self.plot_test_results_for_class(gt_mask_list, test_imgs, score_map, threshold, img_fpr, img_tpr, img_auroc, pxl_fpr, pxl_tpr, pxl_auroc)\n",
    "\n",
    "        return pxl_auroc\n",
    "\n",
    "    # TODO: Some of your code for Task 1 goes here. You can add more functions if needed, but use the ones below - we will use them for checking your solution.\n",
    "    def test_permutation_importance(self, val_dataloader: DataLoader, features_to_permute: List[int]) -> List[float]:\n",
    "        \"\"\"Runs a series of tests on `val_dataloader`.\n",
    "        Returns a list of pixelwise AUROCs, where the n-th element of the list is generated by testing the embeddings from `permute_feature(embeddings, features_to_permute[n]).\"\"\"\n",
    "        aurocs = []\n",
    "        self.test_outputs: Dict[str, List[torch.Tensor]] = {'layer1': [], 'layer2': [], 'layer3': []}\n",
    "        test_imgs: List[FloatNDArray] = []\n",
    "        gt_list: List[NDArray[Any]] = []\n",
    "        gt_mask_list: List[FloatNDArray] = []\n",
    "\n",
    "        # Extract test set features.\n",
    "        for x, y, mask in tqdm(val_dataloader, desc='Feature extraction (test permutation)', disable=False):\n",
    "            x_shape = x.shape\n",
    "            test_imgs.extend(x.cpu().detach().numpy())\n",
    "            gt_list.extend(y.cpu().detach().numpy())\n",
    "            gt_mask_list.extend(mask.cpu().detach().numpy())\n",
    "            # Run model prediction.\n",
    "            with torch.no_grad():\n",
    "                _ = self.model(x.to(DEVICE))\n",
    "            # Get intermediate layer outputs.\n",
    "            assert list(self.outputs.keys())  == ['layer1', 'layer2', 'layer3']\n",
    "            for k, v in self.outputs.items():\n",
    "                self.test_outputs[k].append(v.cpu().detach())\n",
    "            # Reset hook outputs.\n",
    "            self.outputs = {}\n",
    "        gt_mask = np.asarray(gt_mask_list)  # shape (len(test_dataset), 1, H, W)\n",
    "\n",
    "        embedding_vectors = concatenate_embeddings_from_all_layers(\n",
    "            {k: torch.cat(v, 0) for k, v in self.test_outputs.items()})\n",
    "        # shape (len(test_dataset), len(feature_subset_indices), H1, W1)\n",
    "        for feature in tqdm(features_to_permute, desc='Feature permutation', disable=False):\n",
    "            embedding_vectors_subset = torch.index_select(embedding_vectors, 1, self.feature_subset_indices.cpu())\n",
    "            embedding_vectors_subset = self.permute_feature(embedding_vectors_subset, feature)\n",
    "            distances = self.calculate_distances(embedding_vectors_subset)\n",
    "            score_map = self.prepare_anomaly_map((x_shape[2], x_shape[3]), distances)\n",
    "            pxl_fpr, pxl_tpr, pxl_auroc = self.calculate_auroc_pixel_level(score_map, gt_mask)\n",
    "            aurocs.append(pxl_auroc)\n",
    "        \n",
    "        return aurocs\n",
    "\n",
    "    def permute_feature(self, embedding_vectors_subset: torch.Tensor, number_of_feature_to_permute: int) -> torch.Tensor:\n",
    "        \"\"\"Permutes the embeddings.\n",
    "\n",
    "        Takes embeddings of shape (N, C, H, W) and feature number to permute.\n",
    "        Returns embeddings with the same shape. See the description of T1 for the details.\n",
    "        \"\"\"\n",
    "        B, C, H, W = embedding_vectors_subset.size()\n",
    "        feature_to_permute = embedding_vectors_subset[:, number_of_feature_to_permute, :, :].clone()\n",
    "        feature_to_permute = feature_to_permute.view(B, 1, H, W)\n",
    "        for b in range(B):\n",
    "            feature_to_permute[b, 0, :, :] = feature_to_permute[b, 0, :, :].flatten()[torch.randperm(H * W)].reshape(H, W)\n",
    "        new_embedding = embedding_vectors_subset.clone()\n",
    "        new_embedding[:, number_of_feature_to_permute, :, :] = feature_to_permute[:, 0, :, :]\n",
    "        return new_embedding\n",
    "    # TODO: End of your code for Task 1 (here)\n",
    "\n",
    "    def plot_test_results_for_class(self, gt_mask_list, test_imgs,\n",
    "                                    score_map, threshold: float,\n",
    "                                    img_fpr, img_tpr, img_auroc: float,\n",
    "                                    pxl_fpr, pxl_tpr, pxl_auroc: float):\n",
    "        _, ax = plt.subplots(1, 2, figsize=(8, 4))\n",
    "        ax[0].plot(img_fpr, img_tpr, label=f'Image AUROC: {img_auroc:.3f}')\n",
    "        ax[1].plot(pxl_fpr, pxl_tpr, label=f'Pixel AUROC: {pxl_auroc:.3f}')\n",
    "\n",
    "        save_dir = self.save_path / f'pictures_{self.arch}'\n",
    "        save_dir.mkdir(parents=True, exist_ok=True)\n",
    "        plot_fig(test_imgs, score_map, gt_mask_list,\n",
    "                 threshold, save_dir, \"\")\n",
    "\n",
    "    def calculate_auroc_image_level(self, score_map: FloatNDArray, gt_list: List[NDArray[Any]]) -> Tuple[FloatNDArray, FloatNDArray, float]:\n",
    "        \"\"\"Calculate image-level AUROC score.\"\"\"\n",
    "        img_scores = score_map.reshape(score_map.shape[0], -1).max(axis=1)\n",
    "        fpr, tpr, _ = roc_curve(gt_list, img_scores)  # false-positive-rates and true-positive-rates for consecutive thresholds (for plotting).\n",
    "        img_auroc = roc_auc_score(gt_list, img_scores)\n",
    "        return fpr, tpr, float(img_auroc)\n",
    "\n",
    "    def calculate_auroc_pixel_level(self, score_map: FloatNDArray, gt_mask: FloatNDArray) -> Tuple[FloatNDArray, FloatNDArray, float]:\n",
    "        \"\"\"Calculate per-pixel level AUROC.\"\"\"\n",
    "        assert score_map.shape == gt_mask.squeeze().shape, f\"{score_map.shape=}, {gt_mask.shape=}\"\n",
    "        fpr, tpr, _ = roc_curve(gt_mask.flatten(), score_map.flatten())\n",
    "        per_pixel_auroc = roc_auc_score(gt_mask.flatten(), score_map.flatten())\n",
    "        return fpr, tpr, float(per_pixel_auroc)\n",
    "\n",
    "    def calculate_optimal_threshold(self, score_map: FloatNDArray, gt_mask: FloatNDArray) -> float:\n",
    "        \"\"\"Calculate the optimal threshold with regard to F1 score.\"\"\"\n",
    "        assert score_map.shape == gt_mask.squeeze().shape\n",
    "        precision, recall, thresholds = precision_recall_curve(\n",
    "            gt_mask.flatten(), score_map.flatten())\n",
    "        a = 2 * precision * recall\n",
    "        b = precision + recall\n",
    "        f1 = np.divide(a, b, out=np.zeros_like(a), where=(b != 0))\n",
    "        threshold = thresholds[np.argmax(f1)]\n",
    "        return threshold\n",
    "\n",
    "    def calculate_distances(self, embedding_vectors: torch.Tensor) -> FloatNDArray:\n",
    "        \"\"\"Calculate Mahalanobis distance of each embedding vector from self.mean.\n",
    "\n",
    "        For embeddings of shape (N, C, H, W), returns shape (N, H, W).\n",
    "        \"\"\"\n",
    "        B, C, H, W = embedding_vectors.size()\n",
    "        embedding_vectors = embedding_vectors.view(B, C, H * W).numpy()\n",
    "        dist_list: List[List[np.float64]] = []\n",
    "        for i in range(H * W):\n",
    "            mean = self.mean[:, i]\n",
    "            conv_inv = np.linalg.inv(self.cov[:, :, i])\n",
    "            dist = [mahalanobis(sample[:, i], mean, conv_inv)\n",
    "                    for sample in embedding_vectors]\n",
    "            dist_list.append(dist)\n",
    "\n",
    "        return np.array(dist_list).transpose(1, 0).reshape(B, H, W)\n",
    "\n",
    "    def prepare_anomaly_map(self, shape: Tuple[int, int], distances: FloatNDArray) -> FloatNDArray:\n",
    "        \"\"\"Upsample distances to `shape`, apply Gaussian smoothing, and normalize to [0,1].\n",
    "\n",
    "        For distances of shape (N, H, W) and `shape` equal to (H2, W2), returns shape (N, H2, W2).\n",
    "        \"\"\"\n",
    "        dists = torch.Tensor(distances).unsqueeze(1)\n",
    "        shape = (dists.shape[0],) + shape\n",
    "        score_map = cast(FloatNDArray, F.interpolate(\n",
    "            dists, size=shape[2], mode='bilinear', align_corners=False).squeeze().numpy())\n",
    "        for i in range(score_map.shape[0]):\n",
    "            score_map[i] = gaussian_filter(score_map[i], sigma=4)\n",
    "\n",
    "        min_score, max_score = score_map.min(), score_map.max()\n",
    "        return (score_map - min_score) / (max_score - min_score + 1e-10)"
   ]
  },
  {
   "cell_type": "markdown",
   "metadata": {
    "id": "kONcQAPly4XO"
   },
   "source": [
    "### Let's see whether it works.\n",
    "Take a look to the `SAVE_PATH` to inspect the results."
   ]
  },
  {
   "cell_type": "code",
   "execution_count": 11,
   "metadata": {
    "id": "VkrBshpCy4XO",
    "outputId": "77cc79e1-d623-443f-d211-25250a0df245",
    "colab": {
     "base_uri": "https://localhost:8080/",
     "height": 504
    },
    "ExecuteTime": {
     "end_time": "2023-12-19T03:53:32.149789Z",
     "start_time": "2023-12-19T03:52:49.458603Z"
    }
   },
   "outputs": [
    {
     "name": "stdout",
     "output_type": "stream",
     "text": [
      "========== bottle\n"
     ]
    },
    {
     "name": "stderr",
     "output_type": "stream",
     "text": [
      "Feature extraction (train): 100%|██████████| 105/105 [00:13<00:00,  8.06it/s]\n",
      "Covariance estimation: 100%|██████████| 3136/3136 [00:00<00:00, 7109.49it/s]\n",
      "Feature extraction (test): 100%|██████████| 42/42 [00:05<00:00,  7.78it/s]\n"
     ]
    },
    {
     "name": "stdout",
     "output_type": "stream",
     "text": [
      "[TEST] Image AUROC: 0.998\n",
      "[TEST] Pixel AUROC: 0.981\n"
     ]
    },
    {
     "data": {
      "text/plain": "<Figure size 800x400 with 2 Axes>",
      "image/png": "[encoded data removed]"
     },
     "metadata": {},
     "output_type": "display_data"
    }
   ],
   "source": [
    "seed_all(SEED)\n",
    "CLASS_NAMES = [\n",
    "            'bottle', #'metal_nut'\n",
    "            # 'cable', 'capsule', 'carpet', 'grid', 'hazelnut', 'leather',\n",
    "            # 'pill', 'screw', 'tile', 'toothbrush', 'transistor', 'wood', 'zipper'\n",
    "        ]\n",
    "BATCH_SIZE = 2\n",
    "RESIZE = 256 * 1\n",
    "CROP_SIZE = 224 * 1\n",
    "BACKBONE = \"resnet18\"\n",
    "NUMBER_OF_BACKBONE_FEATURES = 50\n",
    "MAX_NUMBER_OF_BACKBONE_FEATURES = 448\n",
    "\n",
    "run_timestamp = time.time()\n",
    "for class_name in CLASS_NAMES:\n",
    "    print('=' * 10, class_name)\n",
    "    SAVE_PATH = Path(f\"./results/{run_timestamp}/{class_name}\")\n",
    "\n",
    "    train_dataset = MVTecDataset(DATA_PATH, class_name=class_name, is_train=True, resize=RESIZE, cropsize=CROP_SIZE)\n",
    "    train_dataloader = DataLoader(train_dataset, batch_size=BATCH_SIZE, pin_memory=True)\n",
    "    test_dataset = MVTecDataset(DATA_PATH, class_name=class_name, is_train=False, resize=RESIZE, cropsize=CROP_SIZE)\n",
    "    test_dataloader = DataLoader(test_dataset, batch_size=BATCH_SIZE, pin_memory=True)\n",
    "\n",
    "    padim = PADIM(\n",
    "        backbone=BACKBONE,\n",
    "        device=DEVICE,\n",
    "        backbone_features_idx=sample_idx(NUMBER_OF_BACKBONE_FEATURES, MAX_NUMBER_OF_BACKBONE_FEATURES),\n",
    "        save_path=SAVE_PATH,\n",
    "        plot_metrics=True,\n",
    "    )\n",
    "\n",
    "    padim.train_and_test(\n",
    "        train_dataloader=train_dataloader,\n",
    "        test_dataloader=test_dataloader,\n",
    "    )"
   ]
  },
  {
   "cell_type": "markdown",
   "metadata": {
    "id": "tOAwM1x4y4XP"
   },
   "source": [
    "# Task 1. Finding the right features (40%)\n",
    "\n",
    "The authors of the paper argue that it doesn't really matter how we choose a subset of features. Let's make some steps towards exploring whether it's true for three different classes (`bottle`, `transistor`, `metal_nut`).\n",
    "Design an experiment which will rank the ResNet18 features by its importance. To do so, we'll implement our variation of [permutation feature importance](https://scikit-learn.org/stable/modules/permutation_importance.html#outline-of-the-permutation-importance-algorithm) on a subset of features produced by the backbone.\n",
    "\n",
    "## 1.1 Preparing the data\n",
    "- Using the test dataset, create `val_dataloader` (every even sample from the original test dataset) and `test_dataloader` (every odd sample). `SubsetRandomSampler` might be handy here.\n",
    "- Then, create 3-fold cross validation-like process in which you'll train three PADIM models on the first 100 ResNet features in three equally sized subsets of train dataset in which you discard 1/3 of the data ($\\texttt{padim}_{k}\\texttt{.train}(\\texttt{train\\_dataloader}_k)$) (see below). Again, `SubsetRandomSampler` might be handy here.\n",
    "\n",
    "In other words, you should have:\n",
    "\n",
    "- for $k=0$, the first 10 images indexes from the train dataset we should train on are `[1, 2, 4, 5, 7, 8, 10, 11, 13, 14]`,\n",
    "- for $k=1$, that's `[0, 2, 3, 5, 6, 8, 9, 11, 12, 14]`,\n",
    "- and for $k=2$, that's `[0, 1, 3, 4, 6, 7, 9, 10, 12, 13]`.\n",
    "\n",
    "For val and train, you should have `[0, 2, 4, ...]` and `[1, 3, 5, ...]` respectively (from the test dataset).\n",
    "\n",
    "Don't worry about the sampling order.\n",
    "Use these names for DataLoaders `val_dataloader`, `test_dataloader`. For k-fold training, store dataloaders in `train_dataloaders: List[DataLoader]`, where each element represent different $k$.\n",
    "For each class, store the results in `dataloaders` dictionary (the variable is defined in the code below) - we will use this to check your solution.\n",
    "\n",
    "## 1.2 Calculating the importances\n",
    "- In a given fold, each $j$-th feature shall be ranked based on the pixel-wise AUROC difference between the output of that model ($s_{k} \\leftarrow \\texttt{padim}_{k}\\texttt{.test}(\\texttt{val\\_dataloader})$) and the output with the model with permuted $j$-th feature ($s_{k, j} \\leftarrow \\texttt{padim}_{k}\\texttt{.test\\_permutation\\_importance}(\\texttt{val\\_dataloader, features\\_to\\_permute=}[j])$). In practice you can pass all the numbers of features to permute (instead of 1-element list and do the loop inside the method. See also `test_permutation_importance` method stub above.\n",
    "- Implement `permute_feature` method as follows: given the tensor with embeddings with shape `[B, C, H, W]`, by permutation of the $j$-th feature we mean randomly swapped values for $C=j$. Although (ideally) the order of swapping shall be **different** for every image, we don't require you to strictly guarantee that you won't get the same permutation twice (what matters here is not using the same permutation for **every** sample - you can e.g. use distinct calls to a shuffling function for every sample). In other words, for every image $b$ and feature $j$ you need to shuffle the last two dimensions (marked as stars in `[b, j, *, *]`) in an (ideally) unique manner.\n",
    "- Then, calculate the mean importance $i$ averaged on these folds and plot weights importance for the class ($i_j \\leftarrow \\frac{1}{K} \\sum_{k} ( s_k -  s_{k, j} )$, where $K$ is the number of folds).\n",
    "- Append results in `results` dictionary, where keys are class names and values are the lists of averaged feature importances (from feature 0 to feature 99).\n",
    "\n",
    "## 1.3 Drawing conclusions\n",
    "\n",
    "- Finally, for every class train three models on the full training data and evaluate it on the `test_dataloader`. The first model shall use the first 10 features, the second shall use worst 10 features (in terms of feature importance), and the third shall contain the best 10 features.\n",
    "- Write your conclusions (with the things enlisted below in mind). Simply plotting charts or outputting logs without any comment doesn't qualify as an answer to a question.\n",
    "\n",
    "Note 1: Limit yourself to the first 100 features of ResNet18. If you want, you can go with all of available features instead of 100, but it'll take some time to calculate. Converting parts of the code to PyTorch and running on GPU might change a lot here, but this is not evaluated in this exercise. This experiment can be calculated without GPU in less than one hour anyway.\n",
    "\n",
    "Note 2: If you'd like to be fully covered, one needs to explore if the features are correlated, as this might bias the results of feature importance calculations. However, this is not evaluated in this task for the sake of simplicity (that is, examining the 100 first features without worrying about correlated features are enough to get 100% from this task)."
   ]
  },
  {
   "cell_type": "code",
   "execution_count": 12,
   "metadata": {
    "id": "Zl0W9uBMy4XP",
    "ExecuteTime": {
     "end_time": "2023-12-19T03:53:32.153836Z",
     "start_time": "2023-12-19T03:53:32.148430Z"
    }
   },
   "outputs": [],
   "source": [
    "# do not modify\n",
    "CLASS_NAMES = ['bottle', 'transistor', 'metal_nut']\n",
    "\n",
    "BATCH_SIZE = 1\n",
    "RESIZE = 256 * 2 // 4\n",
    "CROP_SIZE = 224 * 2 // 4\n",
    "BACKBONE = \"resnet18\"\n",
    "NUMBER_OF_BACKBONE_FEATURES = 10\n",
    "MAX_NUMBER_OF_BACKBONE_FEATURES = 100  # 448\n",
    "folds = 3"
   ]
  },
  {
   "cell_type": "code",
   "execution_count": 13,
   "metadata": {
    "id": "MacZEG1ly4XP",
    "outputId": "511a0d68-bf81-4d24-e230-646306cb0e2b",
    "colab": {
     "base_uri": "https://localhost:8080/",
     "height": 242
    },
    "ExecuteTime": {
     "end_time": "2023-12-19T03:53:32.163261Z",
     "start_time": "2023-12-19T03:53:32.154465Z"
    }
   },
   "outputs": [
    {
     "name": "stdout",
     "output_type": "stream",
     "text": [
      "1702958012.155515\n"
     ]
    }
   ],
   "source": [
    "seed_all(SEED)\n",
    "results = {c: [0] * MAX_NUMBER_OF_BACKBONE_FEATURES for c in CLASS_NAMES}\n",
    "\n",
    "run_timestamp = time.time()\n",
    "print(f\"{run_timestamp}\")\n",
    "\n",
    "idx_all_fatures = torch.Tensor(range(MAX_NUMBER_OF_BACKBONE_FEATURES)).int()\n",
    "idx_first_n_features = torch.Tensor(range(NUMBER_OF_BACKBONE_FEATURES)).int()\n",
    "\n",
    "dataloaders = {c: {\"val_dataloader\": None, \"test_dataloader\": None, \"train_dataloaders\": None} for c in CLASS_NAMES}"
   ]
  },
  {
   "cell_type": "code",
   "execution_count": 14,
   "outputs": [],
   "source": [
    "# T1.1\n",
    "for class_name in CLASS_NAMES:\n",
    "    test_dataset = MVTecDataset(DATA_PATH, class_name=class_name, is_train=False, resize=RESIZE, cropsize=CROP_SIZE)\n",
    "\n",
    "    val_sampler = SubsetRandomSampler(range(0, len(test_dataset), 2))\n",
    "    test_sampler = SubsetRandomSampler(range(1, len(test_dataset), 2))\n",
    "\n",
    "    val_dataloader = DataLoader(test_dataset, batch_size=BATCH_SIZE, sampler=val_sampler)\n",
    "    test_dataloader = DataLoader(test_dataset, batch_size=BATCH_SIZE, sampler=test_sampler)\n",
    "\n",
    "    dataloaders[class_name][\"val_dataloader\"] = val_dataloader\n",
    "    dataloaders[class_name][\"test_dataloader\"] = test_dataloader\n",
    "\n",
    "    train_dataloaders = []\n",
    "    train_dataset = MVTecDataset(DATA_PATH, class_name=class_name, is_train=True, resize=RESIZE, cropsize=CROP_SIZE)\n",
    "\n",
    "    for k in range(folds):\n",
    "        train_indices = [i for i in range(len(train_dataset)) if i % folds != k]\n",
    "        train_sampler = SubsetRandomSampler(train_indices)\n",
    "        train_dataloader = DataLoader(train_dataset, batch_size=BATCH_SIZE, sampler=train_sampler)\n",
    "        train_dataloaders.append(train_dataloader)\n",
    "\n",
    "    dataloaders[class_name][\"train_dataloaders\"] = train_dataloaders"
   ],
   "metadata": {
    "collapsed": false,
    "ExecuteTime": {
     "end_time": "2023-12-19T03:53:32.230020Z",
     "start_time": "2023-12-19T03:53:32.162418Z"
    }
   }
  },
  {
   "cell_type": "code",
   "execution_count": 15,
   "outputs": [
    {
     "name": "stderr",
     "output_type": "stream",
     "text": [
      "Feature extraction (train): 100%|██████████| 139/139 [00:09<00:00, 15.07it/s]\n",
      "Covariance estimation: 100%|██████████| 784/784 [00:00<00:00, 2030.28it/s]\n",
      "Feature extraction (test): 100%|██████████| 42/42 [00:02<00:00, 15.29it/s]\n",
      "Feature extraction (test permutation): 100%|██████████| 42/42 [00:02<00:00, 16.26it/s]\n",
      "Feature permutation: 100%|██████████| 100/100 [04:02<00:00,  2.43s/it]\n",
      "Feature extraction (train): 100%|██████████| 139/139 [00:09<00:00, 14.73it/s]\n",
      "Covariance estimation: 100%|██████████| 784/784 [00:02<00:00, 287.48it/s]\n",
      "Feature extraction (test): 100%|██████████| 42/42 [00:03<00:00, 11.84it/s]\n",
      "Feature extraction (test permutation): 100%|██████████| 42/42 [00:04<00:00,  9.57it/s]\n",
      "Feature permutation: 100%|██████████| 100/100 [05:00<00:00,  3.00s/it]\n",
      "Feature extraction (train): 100%|██████████| 140/140 [00:09<00:00, 14.18it/s]\n",
      "Covariance estimation: 100%|██████████| 784/784 [00:00<00:00, 1187.79it/s]\n",
      "Feature extraction (test): 100%|██████████| 42/42 [00:03<00:00, 13.19it/s]\n",
      "Feature extraction (test permutation): 100%|██████████| 42/42 [00:03<00:00, 13.51it/s]\n",
      "Feature permutation: 100%|██████████| 100/100 [05:07<00:00,  3.07s/it]\n",
      "Feature extraction (train): 100%|██████████| 142/142 [00:12<00:00, 11.35it/s]\n",
      "Covariance estimation: 100%|██████████| 784/784 [00:00<00:00, 1365.50it/s]\n",
      "Feature extraction (test): 100%|██████████| 50/50 [00:04<00:00, 11.08it/s]\n",
      "Feature extraction (test permutation): 100%|██████████| 50/50 [00:04<00:00, 11.76it/s]\n",
      "Feature permutation: 100%|██████████| 100/100 [05:26<00:00,  3.26s/it]\n",
      "Feature extraction (train): 100%|██████████| 142/142 [00:13<00:00, 10.68it/s]\n",
      "Covariance estimation: 100%|██████████| 784/784 [00:00<00:00, 1935.82it/s]\n",
      "Feature extraction (test): 100%|██████████| 50/50 [00:04<00:00, 10.34it/s]\n",
      "Feature extraction (test permutation): 100%|██████████| 50/50 [00:04<00:00, 11.09it/s]\n",
      "Feature permutation: 100%|██████████| 100/100 [04:43<00:00,  2.84s/it]\n",
      "Feature extraction (train): 100%|██████████| 142/142 [00:13<00:00, 10.36it/s]\n",
      "Covariance estimation: 100%|██████████| 784/784 [00:00<00:00, 1494.33it/s]\n",
      "Feature extraction (test): 100%|██████████| 50/50 [00:04<00:00, 10.23it/s]\n",
      "Feature extraction (test permutation): 100%|██████████| 50/50 [00:05<00:00,  8.80it/s]\n",
      "Feature permutation: 100%|██████████| 100/100 [05:22<00:00,  3.23s/it]\n",
      "Feature extraction (train): 100%|██████████| 146/146 [00:07<00:00, 18.38it/s]\n",
      "Covariance estimation: 100%|██████████| 784/784 [00:00<00:00, 1371.02it/s]\n",
      "Feature extraction (test): 100%|██████████| 58/58 [00:03<00:00, 17.17it/s]\n",
      "Feature extraction (test permutation): 100%|██████████| 58/58 [00:02<00:00, 19.51it/s]\n",
      "Feature permutation: 100%|██████████| 100/100 [04:09<00:00,  2.50s/it]\n",
      "Feature extraction (train): 100%|██████████| 147/147 [00:07<00:00, 18.43it/s]\n",
      "Covariance estimation: 100%|██████████| 784/784 [00:00<00:00, 1569.02it/s]\n",
      "Feature extraction (test): 100%|██████████| 58/58 [00:03<00:00, 17.81it/s]\n",
      "Feature extraction (test permutation): 100%|██████████| 58/58 [00:02<00:00, 21.44it/s]\n",
      "Feature permutation: 100%|██████████| 100/100 [05:44<00:00,  3.45s/it]\n",
      "Feature extraction (train): 100%|██████████| 147/147 [00:08<00:00, 17.50it/s]\n",
      "Covariance estimation: 100%|██████████| 784/784 [00:00<00:00, 1294.25it/s]\n",
      "Feature extraction (test): 100%|██████████| 58/58 [00:03<00:00, 16.24it/s]\n",
      "Feature extraction (test permutation): 100%|██████████| 58/58 [00:03<00:00, 18.78it/s]\n",
      "Feature permutation: 100%|██████████| 100/100 [04:59<00:00,  2.99s/it]\n"
     ]
    },
    {
     "data": {
      "text/plain": "<Figure size 640x480 with 1 Axes>",
      "image/png": "[encoded data removed]"
     },
     "metadata": {},
     "output_type": "display_data"
    }
   ],
   "source": [
    "# T1.2\n",
    "for class_name in CLASS_NAMES:\n",
    "    pom_res = [0 for _ in range(MAX_NUMBER_OF_BACKBONE_FEATURES)]\n",
    "    for k in range(folds):\n",
    "        # Create a model\n",
    "        model = PADIM(\n",
    "            backbone=BACKBONE,\n",
    "            device=DEVICE,\n",
    "            backbone_features_idx=idx_all_fatures,\n",
    "            save_path=Path(f\"./results/{run_timestamp}/{class_name}\"),\n",
    "            plot_metrics=False,\n",
    "        )\n",
    "        model.train(train_dataloader=dataloaders[class_name][\"train_dataloaders\"][k])\n",
    "        test_res = model.test(dataloaders[class_name][\"val_dataloader\"])\n",
    "        permuted_test_res = model.test_permutation_importance(dataloaders[class_name][\"val_dataloader\"], idx_all_fatures)\n",
    "        pom_res += np.array(test_res) - np.array(permuted_test_res)\n",
    "    results[class_name] = pom_res / folds\n",
    "\n",
    "for class_name in CLASS_NAMES:\n",
    "    plt.plot(results[class_name])\n",
    "    plt.title(class_name)\n",
    "plt.show()"
   ],
   "metadata": {
    "collapsed": false,
    "ExecuteTime": {
     "end_time": "2023-12-19T04:41:33.535220Z",
     "start_time": "2023-12-19T03:53:32.182575Z"
    }
   }
  },
  {
   "cell_type": "code",
   "execution_count": 16,
   "outputs": [
    {
     "name": "stderr",
     "output_type": "stream",
     "text": [
      "Feature extraction (train): 100%|██████████| 209/209 [00:13<00:00, 15.75it/s]\n",
      "Covariance estimation: 100%|██████████| 784/784 [00:00<00:00, 16873.29it/s]\n",
      "Feature extraction (test): 100%|██████████| 41/41 [00:02<00:00, 14.77it/s]\n",
      "Feature extraction (train): 100%|██████████| 209/209 [00:12<00:00, 16.96it/s]\n",
      "Covariance estimation: 100%|██████████| 784/784 [00:00<00:00, 19931.35it/s]\n",
      "Feature extraction (test): 100%|██████████| 41/41 [00:02<00:00, 15.02it/s]\n",
      "Feature extraction (train): 100%|██████████| 209/209 [00:12<00:00, 16.12it/s]\n",
      "Covariance estimation: 100%|██████████| 784/784 [00:00<00:00, 19215.30it/s]\n",
      "Feature extraction (test): 100%|██████████| 41/41 [00:02<00:00, 14.18it/s]\n",
      "Feature extraction (train): 100%|██████████| 213/213 [00:18<00:00, 11.65it/s]\n",
      "Covariance estimation: 100%|██████████| 784/784 [00:00<00:00, 18906.73it/s]\n",
      "Feature extraction (test): 100%|██████████| 50/50 [00:04<00:00, 12.47it/s]\n",
      "Feature extraction (train): 100%|██████████| 213/213 [00:15<00:00, 13.40it/s]\n",
      "Covariance estimation: 100%|██████████| 784/784 [00:00<00:00, 19740.74it/s]\n",
      "Feature extraction (test): 100%|██████████| 50/50 [00:04<00:00, 11.59it/s]\n",
      "Feature extraction (train): 100%|██████████| 213/213 [00:16<00:00, 13.30it/s]\n",
      "Covariance estimation: 100%|██████████| 784/784 [00:00<00:00, 19862.01it/s]\n",
      "Feature extraction (test): 100%|██████████| 50/50 [00:04<00:00, 12.34it/s]\n",
      "Feature extraction (train): 100%|██████████| 220/220 [00:11<00:00, 19.84it/s]\n",
      "Covariance estimation: 100%|██████████| 784/784 [00:00<00:00, 19245.78it/s]\n",
      "Feature extraction (test): 100%|██████████| 57/57 [00:03<00:00, 18.74it/s]\n",
      "Feature extraction (train): 100%|██████████| 220/220 [00:11<00:00, 19.87it/s]\n",
      "Covariance estimation: 100%|██████████| 784/784 [00:00<00:00, 19404.55it/s]\n",
      "Feature extraction (test): 100%|██████████| 57/57 [00:03<00:00, 18.73it/s]\n",
      "Feature extraction (train): 100%|██████████| 220/220 [00:10<00:00, 21.63it/s]\n",
      "Covariance estimation: 100%|██████████| 784/784 [00:00<00:00, 19734.82it/s]\n",
      "Feature extraction (test): 100%|██████████| 57/57 [00:03<00:00, 18.73it/s]\n"
     ]
    },
    {
     "data": {
      "text/plain": "<Figure size 640x480 with 1 Axes>",
      "image/png": "[encoded data removed]"
     },
     "metadata": {},
     "output_type": "display_data"
    }
   ],
   "source": [
    "# T1.3\n",
    "features_final = {c: [None] * 3 for c in CLASS_NAMES}\n",
    "results_final = {c: [0] * 3 for c in CLASS_NAMES}\n",
    "for c in CLASS_NAMES:\n",
    "    features_final[c][0] = idx_first_n_features\n",
    "    features_final[c][1] = torch.argsort(torch.Tensor(results[c]), descending=True)[:NUMBER_OF_BACKBONE_FEATURES].int()\n",
    "    features_final[c][2] = torch.argsort(torch.Tensor(results[c]))[:NUMBER_OF_BACKBONE_FEATURES].int()\n",
    "\n",
    "    train_dataset = MVTecDataset(DATA_PATH, class_name=c, is_train=True, resize=RESIZE, cropsize=CROP_SIZE)\n",
    "    train_dataloader = DataLoader(train_dataset, batch_size=BATCH_SIZE, pin_memory=True)\n",
    "\n",
    "    for i in range(3):\n",
    "        model = PADIM(\n",
    "            backbone=BACKBONE,\n",
    "            device=DEVICE,\n",
    "            backbone_features_idx=features_final[c][i],\n",
    "            save_path=Path(f\"./results/{run_timestamp}/{class_name}\"),\n",
    "            plot_metrics=False,\n",
    "        )\n",
    "        results_final[c][i]= model.train_and_test(train_dataloader=train_dataloader, test_dataloader=dataloaders[c][\"test_dataloader\"])\n",
    "\n",
    "\n",
    "plt.scatter(CLASS_NAMES, [results_final[class_name][0] for class_name in CLASS_NAMES], label=\"first\")\n",
    "plt.scatter(CLASS_NAMES, [results_final[class_name][1] for class_name in CLASS_NAMES], label=\"best\")\n",
    "plt.scatter(CLASS_NAMES, [results_final[class_name][2] for class_name in CLASS_NAMES], label=\"worst\")\n",
    "\n",
    "plt.xlabel(\"Class\")\n",
    "plt.ylabel(\"AUROC\")\n",
    "plt.legend()\n",
    "\n",
    "# Wyświetlamy wykres\n",
    "plt.show()"
   ],
   "metadata": {
    "collapsed": false,
    "ExecuteTime": {
     "end_time": "2023-12-19T04:44:23.598242Z",
     "start_time": "2023-12-19T04:41:33.537158Z"
    }
   }
  },
  {
   "cell_type": "markdown",
   "source": [
    "The results indicate that different classes rely on distinct sets of features, suggesting the importance of considering class-specific features for improved classification. \n",
    "\n",
    "The resulting plot shows that the feature importances for different classes are not uniform. For instance, the bottle class has a few features that are highly important, while the metal_nut class has a more even distribution of important features. This suggests that different classes may rely on different sets of features for their classification.\n",
    "The reason for this difference in feature importance is likely due to the nature of the data. The bottle class may be characterized by specific patterns in its shape or texture, which are captured by a small number of features. In contrast, the metal_nut class may be more diverse in its appearance, requiring a wider range of features to be considered for accurate classification.\n",
    "\n",
    "Coming to the conclusion, we can easily see that the worst features has always worst performance, however choosing the best ones is not always the best idea. So choosing \"right\" features is not obvious and depends on the class.\n"
   ],
   "metadata": {
    "collapsed": false
   }
  },
  {
   "cell_type": "code",
   "execution_count": 17,
   "metadata": {
    "id": "ve_iqrBjy4XQ",
    "ExecuteTime": {
     "end_time": "2023-12-19T04:44:23.656757Z",
     "start_time": "2023-12-19T04:44:23.597219Z"
    }
   },
   "outputs": [
    {
     "name": "stdout",
     "output_type": "stream",
     "text": [
      "[95, 44, 51, 87, 60, 10, 21, 43, 72, 57]\n",
      "[62, 2, 91, 67, 73, 84, 99, 66, 35, 65]\n",
      "[87, 65, 28, 85, 5, 20, 7, 8, 46, 99]\n",
      "[19, 41, 98, 13, 59, 47, 95, 54, 71, 21]\n",
      "[14, 87, 26, 95, 57, 3, 8, 4, 83, 89]\n",
      "[79, 76, 99, 68, 73, 69, 67, 91, 90, 53]\n",
      "[0, 2, 4, 6, 8, 10, 12, 14, 16, 18, 20, 22, 24, 26, 28, 30, 32, 34, 36, 38, 40, 42, 44, 46, 48, 50, 52, 54, 56, 58, 60, 62, 64, 66, 68, 70, 72, 74, 76, 78, 80, 82]\n",
      "[1, 3, 5, 7, 9, 11, 13, 15, 17, 19, 21, 23, 25, 27, 29, 31, 33, 35, 37, 39, 41, 43, 45, 47, 49, 51, 53, 55, 57, 59, 61, 63, 65, 67, 69, 71, 73, 75, 77, 79, 81]\n",
      "[1, 2, 4, 5, 7, 8, 10, 11, 13, 14, 16, 17, 19, 20, 22, 23, 25, 26, 28, 29, 31, 32, 34, 35, 37, 38, 40, 41, 43, 44, 46, 47, 49, 50, 52, 53, 55, 56, 58, 59, 61, 62, 64, 65, 67, 68, 70, 71, 73, 74, 76, 77, 79, 80, 82, 83, 85, 86, 88, 89, 91, 92, 94, 95, 97, 98, 100, 101, 103, 104, 106, 107, 109, 110, 112, 113, 115, 116, 118, 119, 121, 122, 124, 125, 127, 128, 130, 131, 133, 134, 136, 137, 139, 140, 142, 143, 145, 146, 148, 149, 151, 152, 154, 155, 157, 158, 160, 161, 163, 164, 166, 167, 169, 170, 172, 173, 175, 176, 178, 179, 181, 182, 184, 185, 187, 188, 190, 191, 193, 194, 196, 197, 199, 200, 202, 203, 205, 206, 208]\n",
      "[0, 2, 3, 5, 6, 8, 9, 11, 12, 14, 15, 17, 18, 20, 21, 23, 24, 26, 27, 29, 30, 32, 33, 35, 36, 38, 39, 41, 42, 44, 45, 47, 48, 50, 51, 53, 54, 56, 57, 59, 60, 62, 63, 65, 66, 68, 69, 71, 72, 74, 75, 77, 78, 80, 81, 83, 84, 86, 87, 89, 90, 92, 93, 95, 96, 98, 99, 101, 102, 104, 105, 107, 108, 110, 111, 113, 114, 116, 117, 119, 120, 122, 123, 125, 126, 128, 129, 131, 132, 134, 135, 137, 138, 140, 141, 143, 144, 146, 147, 149, 150, 152, 153, 155, 156, 158, 159, 161, 162, 164, 165, 167, 168, 170, 171, 173, 174, 176, 177, 179, 180, 182, 183, 185, 186, 188, 189, 191, 192, 194, 195, 197, 198, 200, 201, 203, 204, 206, 207]\n",
      "[0, 1, 3, 4, 6, 7, 9, 10, 12, 13, 15, 16, 18, 19, 21, 22, 24, 25, 27, 28, 30, 31, 33, 34, 36, 37, 39, 40, 42, 43, 45, 46, 48, 49, 51, 52, 54, 55, 57, 58, 60, 61, 63, 64, 66, 67, 69, 70, 72, 73, 75, 76, 78, 79, 81, 82, 84, 85, 87, 88, 90, 91, 93, 94, 96, 97, 99, 100, 102, 103, 105, 106, 108, 109, 111, 112, 114, 115, 117, 118, 120, 121, 123, 124, 126, 127, 129, 130, 132, 133, 135, 136, 138, 139, 141, 142, 144, 145, 147, 148, 150, 151, 153, 154, 156, 157, 159, 160, 162, 163, 165, 166, 168, 169, 171, 172, 174, 175, 177, 178, 180, 181, 183, 184, 186, 187, 189, 190, 192, 193, 195, 196, 198, 199, 201, 202, 204, 205, 207, 208]\n",
      "[0, 2, 4, 6, 8, 10, 12, 14, 16, 18, 20, 22, 24, 26, 28, 30, 32, 34, 36, 38, 40, 42, 44, 46, 48, 50, 52, 54, 56, 58, 60, 62, 64, 66, 68, 70, 72, 74, 76, 78, 80, 82, 84, 86, 88, 90, 92, 94, 96, 98]\n",
      "[1, 3, 5, 7, 9, 11, 13, 15, 17, 19, 21, 23, 25, 27, 29, 31, 33, 35, 37, 39, 41, 43, 45, 47, 49, 51, 53, 55, 57, 59, 61, 63, 65, 67, 69, 71, 73, 75, 77, 79, 81, 83, 85, 87, 89, 91, 93, 95, 97, 99]\n",
      "[1, 2, 4, 5, 7, 8, 10, 11, 13, 14, 16, 17, 19, 20, 22, 23, 25, 26, 28, 29, 31, 32, 34, 35, 37, 38, 40, 41, 43, 44, 46, 47, 49, 50, 52, 53, 55, 56, 58, 59, 61, 62, 64, 65, 67, 68, 70, 71, 73, 74, 76, 77, 79, 80, 82, 83, 85, 86, 88, 89, 91, 92, 94, 95, 97, 98, 100, 101, 103, 104, 106, 107, 109, 110, 112, 113, 115, 116, 118, 119, 121, 122, 124, 125, 127, 128, 130, 131, 133, 134, 136, 137, 139, 140, 142, 143, 145, 146, 148, 149, 151, 152, 154, 155, 157, 158, 160, 161, 163, 164, 166, 167, 169, 170, 172, 173, 175, 176, 178, 179, 181, 182, 184, 185, 187, 188, 190, 191, 193, 194, 196, 197, 199, 200, 202, 203, 205, 206, 208, 209, 211, 212]\n",
      "[0, 2, 3, 5, 6, 8, 9, 11, 12, 14, 15, 17, 18, 20, 21, 23, 24, 26, 27, 29, 30, 32, 33, 35, 36, 38, 39, 41, 42, 44, 45, 47, 48, 50, 51, 53, 54, 56, 57, 59, 60, 62, 63, 65, 66, 68, 69, 71, 72, 74, 75, 77, 78, 80, 81, 83, 84, 86, 87, 89, 90, 92, 93, 95, 96, 98, 99, 101, 102, 104, 105, 107, 108, 110, 111, 113, 114, 116, 117, 119, 120, 122, 123, 125, 126, 128, 129, 131, 132, 134, 135, 137, 138, 140, 141, 143, 144, 146, 147, 149, 150, 152, 153, 155, 156, 158, 159, 161, 162, 164, 165, 167, 168, 170, 171, 173, 174, 176, 177, 179, 180, 182, 183, 185, 186, 188, 189, 191, 192, 194, 195, 197, 198, 200, 201, 203, 204, 206, 207, 209, 210, 212]\n",
      "[0, 1, 3, 4, 6, 7, 9, 10, 12, 13, 15, 16, 18, 19, 21, 22, 24, 25, 27, 28, 30, 31, 33, 34, 36, 37, 39, 40, 42, 43, 45, 46, 48, 49, 51, 52, 54, 55, 57, 58, 60, 61, 63, 64, 66, 67, 69, 70, 72, 73, 75, 76, 78, 79, 81, 82, 84, 85, 87, 88, 90, 91, 93, 94, 96, 97, 99, 100, 102, 103, 105, 106, 108, 109, 111, 112, 114, 115, 117, 118, 120, 121, 123, 124, 126, 127, 129, 130, 132, 133, 135, 136, 138, 139, 141, 142, 144, 145, 147, 148, 150, 151, 153, 154, 156, 157, 159, 160, 162, 163, 165, 166, 168, 169, 171, 172, 174, 175, 177, 178, 180, 181, 183, 184, 186, 187, 189, 190, 192, 193, 195, 196, 198, 199, 201, 202, 204, 205, 207, 208, 210, 211]\n",
      "[0, 2, 4, 6, 8, 10, 12, 14, 16, 18, 20, 22, 24, 26, 28, 30, 32, 34, 36, 38, 40, 42, 44, 46, 48, 50, 52, 54, 56, 58, 60, 62, 64, 66, 68, 70, 72, 74, 76, 78, 80, 82, 84, 86, 88, 90, 92, 94, 96, 98, 100, 102, 104, 106, 108, 110, 112, 114]\n",
      "[1, 3, 5, 7, 9, 11, 13, 15, 17, 19, 21, 23, 25, 27, 29, 31, 33, 35, 37, 39, 41, 43, 45, 47, 49, 51, 53, 55, 57, 59, 61, 63, 65, 67, 69, 71, 73, 75, 77, 79, 81, 83, 85, 87, 89, 91, 93, 95, 97, 99, 101, 103, 105, 107, 109, 111, 113]\n",
      "[1, 2, 4, 5, 7, 8, 10, 11, 13, 14, 16, 17, 19, 20, 22, 23, 25, 26, 28, 29, 31, 32, 34, 35, 37, 38, 40, 41, 43, 44, 46, 47, 49, 50, 52, 53, 55, 56, 58, 59, 61, 62, 64, 65, 67, 68, 70, 71, 73, 74, 76, 77, 79, 80, 82, 83, 85, 86, 88, 89, 91, 92, 94, 95, 97, 98, 100, 101, 103, 104, 106, 107, 109, 110, 112, 113, 115, 116, 118, 119, 121, 122, 124, 125, 127, 128, 130, 131, 133, 134, 136, 137, 139, 140, 142, 143, 145, 146, 148, 149, 151, 152, 154, 155, 157, 158, 160, 161, 163, 164, 166, 167, 169, 170, 172, 173, 175, 176, 178, 179, 181, 182, 184, 185, 187, 188, 190, 191, 193, 194, 196, 197, 199, 200, 202, 203, 205, 206, 208, 209, 211, 212, 214, 215, 217, 218]\n",
      "[0, 2, 3, 5, 6, 8, 9, 11, 12, 14, 15, 17, 18, 20, 21, 23, 24, 26, 27, 29, 30, 32, 33, 35, 36, 38, 39, 41, 42, 44, 45, 47, 48, 50, 51, 53, 54, 56, 57, 59, 60, 62, 63, 65, 66, 68, 69, 71, 72, 74, 75, 77, 78, 80, 81, 83, 84, 86, 87, 89, 90, 92, 93, 95, 96, 98, 99, 101, 102, 104, 105, 107, 108, 110, 111, 113, 114, 116, 117, 119, 120, 122, 123, 125, 126, 128, 129, 131, 132, 134, 135, 137, 138, 140, 141, 143, 144, 146, 147, 149, 150, 152, 153, 155, 156, 158, 159, 161, 162, 164, 165, 167, 168, 170, 171, 173, 174, 176, 177, 179, 180, 182, 183, 185, 186, 188, 189, 191, 192, 194, 195, 197, 198, 200, 201, 203, 204, 206, 207, 209, 210, 212, 213, 215, 216, 218, 219]\n",
      "[0, 1, 3, 4, 6, 7, 9, 10, 12, 13, 15, 16, 18, 19, 21, 22, 24, 25, 27, 28, 30, 31, 33, 34, 36, 37, 39, 40, 42, 43, 45, 46, 48, 49, 51, 52, 54, 55, 57, 58, 60, 61, 63, 64, 66, 67, 69, 70, 72, 73, 75, 76, 78, 79, 81, 82, 84, 85, 87, 88, 90, 91, 93, 94, 96, 97, 99, 100, 102, 103, 105, 106, 108, 109, 111, 112, 114, 115, 117, 118, 120, 121, 123, 124, 126, 127, 129, 130, 132, 133, 135, 136, 138, 139, 141, 142, 144, 145, 147, 148, 150, 151, 153, 154, 156, 157, 159, 160, 162, 163, 165, 166, 168, 169, 171, 172, 174, 175, 177, 178, 180, 181, 183, 184, 186, 187, 189, 190, 192, 193, 195, 196, 198, 199, 201, 202, 204, 205, 207, 208, 210, 211, 213, 214, 216, 217, 219]\n"
     ]
    }
   ],
   "source": [
    "# Run at the end, but do not modify - we will use this to asses your output.\n",
    "for c in CLASS_NAMES:\n",
    "    s = pd.Series(results[c])\n",
    "    print(s.sort_values(ascending=False)[:10].index.tolist())\n",
    "    print(s.sort_values(ascending=True)[:10].index.tolist())\n",
    "\n",
    "def get_sorted_indices(loader):\n",
    "    loader.dataset.return_only_indices = True\n",
    "    indices = sorted([x.item() for x in loader])\n",
    "    loader.dataset.return_only_indices = False\n",
    "    return indices\n",
    "\n",
    "for c in CLASS_NAMES:\n",
    "    print(get_sorted_indices(dataloaders[c][\"val_dataloader\"]))\n",
    "    print(get_sorted_indices(dataloaders[c][\"test_dataloader\"]))\n",
    "    for v in dataloaders[c][\"train_dataloaders\"]:\n",
    "        print(get_sorted_indices(v))"
   ]
  },
  {
   "cell_type": "markdown",
   "metadata": {
    "id": "nVznSyi3y4XQ"
   },
   "source": [
    "# Task 2. Improving PADIM with Online Covariance Estimation\n",
    "\n",
    "This implementation of PADIM can be improved in numerous ways. In this exercise, you'll try to indicate its shortcomings and provide some means to mitigate them.\n",
    "\n",
    "#### 2.1. PADIM's training complexity (15%)\n",
    "\n",
    "- Identify the key operations contributing to the algorithm's training space complexity *in this implementation*. Don't focus on the backbone, as it is not the part of the algorithm (however, its output is).\n",
    "- Shortly discuss the implications for scalability. You can support your claims by charts if needed.\n",
    "\n",
    "*Hint: this doesn't need to be super formal analysis - it's about fiding the \"worst\" parts of this implementation. You can support your claims with a chart and brief description (e.g. \"X dominates the complexity, as it's quadratic.\")*"
   ]
  },
  {
   "cell_type": "markdown",
   "metadata": {
    "id": "HM0yKjKiy4XQ"
   },
   "source": [
    "The most memory-consuming part of the code is storing the intermediate layer outputs in the `train_outputs` dictionary. The size of this dictionary depends on the number of layers in the model, the number of samples in the training dataset, the output size of each layer, and the dimensions of the input data.\n",
    "\n",
    "For example, if the model has 3 layers and each layer has an output of size (n, c, h, w), where n is the number of samples, c is the number of channels, h is the height of the image, and w is the width of the image, then the train_outputs dictionary will have a size of `3 * n * c * h * w`.\n",
    "\n",
    "Another memory-consuming part of the code is storing the mean and covariance in the `mean` and `cov` variables. The size of these variables depends on the square of number of features in the model and the dimensions of the input data.\n",
    "\n",
    "This means that training is highly dependent on number of images in the training dataset from the first reason and on the number of features in the model from the second reason.\n",
    "\n",
    "This can result in scalability issues when the number of images in the training dataset is large or when the number of features in the model is large. In such cases, the memory consumption of the algorithm can be too large to fit in the memory of the machine. So we could not train the model on such datasets with a lot of images or with a lot of features. \n",
    "\n",
    "Solution to that can be to use online covariance estimation, which is more memory efficient. It can be used to calculate the covariance matrix without storing the intermediate layer outputs in the `train_outputs` dictionary. This can reduce the memory consumption of the algorithm and allow us to train the model on larger datasets with more images or with more features. "
   ]
  },
  {
   "cell_type": "code",
   "execution_count": 18,
   "outputs": [],
   "source": [
    "# Your code goes here (if needed)"
   ],
   "metadata": {
    "collapsed": false,
    "ExecuteTime": {
     "end_time": "2023-12-19T04:44:23.657848Z",
     "start_time": "2023-12-19T04:44:23.634088Z"
    }
   }
  },
  {
   "cell_type": "markdown",
   "metadata": {
    "id": "DrPTYr4Jy4XQ"
   },
   "source": [
    "#### 2.2 Online mean and covariance (35%)\n",
    "Implement a PyTorch version of [online covariance matrix estimation](https://en.wikipedia.org/wiki/Algorithms_for_calculating_variance#Online) in the training as an alternative to the current method in PADIM.\n",
    "Calculate the mean in an online fashion as well.\n",
    "Your implementation shall run on the selected `torch.device` (such as GPU).\n",
    "No need to reimplement the testing routine to online in this exercise (although it'd be nice to have for Task 1), albeit small changes might be necessary (such as conversion from `torch.Tensor` to `np.ndarray`).\n",
    "\n",
    "Passing criteria:\n",
    "```python\n",
    "torch.allclose(padim_online.mean, torch.Tensor(padim_offline.mean).to(DEVICE), atol=0.01)\n",
    "torch.allclose(padim_online.cov, torch.Tensor(padim_offline.cov).to(DEVICE), atol=0.01)\n",
    "```\n"
   ]
  },
  {
   "cell_type": "code",
   "execution_count": 19,
   "metadata": {
    "id": "RIBQntogy4XR",
    "ExecuteTime": {
     "end_time": "2023-12-19T04:44:23.661923Z",
     "start_time": "2023-12-19T04:44:23.637910Z"
    }
   },
   "outputs": [],
   "source": [
    "class PADIMWithOnlineCovariance(PADIM):\n",
    "\n",
    "    def __init__(\n",
    "            self,\n",
    "            backbone: str,\n",
    "            device: torch.device,\n",
    "            save_path: Path,\n",
    "            backbone_features_idx: List[int],\n",
    "            class_names=...,\n",
    "            plot_metrics=False,\n",
    "    ) -> None:\n",
    "        super().__init__(backbone, device, save_path, backbone_features_idx, class_names, plot_metrics)\n",
    "\n",
    "\n",
    "    def train(self, train_dataloader: DataLoader, C: int, H: int, W: int) -> None:\n",
    "        self.mean = torch.zeros(C, H * W, device=self.device)\n",
    "        self.cov = torch.zeros(C, C, H * W, device=self.device)\n",
    "        \n",
    "        n = 0\n",
    "        for x, _, _ in tqdm(train_dataloader, desc='Feature extraction (train)'):\n",
    "            n += 1\n",
    "            train_output: Dict[str, torch.Tensor] = {'layer1': [], 'layer2': [], 'layer3': []}\n",
    "            # Run model prediction.\n",
    "            with torch.no_grad():\n",
    "                _ = self.model(x.to(self.device))\n",
    "            # Get intermediate layer outputs.\n",
    "            assert list(self.outputs.keys())  == ['layer1', 'layer2', 'layer3'], list(self.outputs.keys())\n",
    "            for k, v in self.outputs.items():\n",
    "                train_output[k] = v\n",
    "\n",
    "            embedding_vector = concatenate_embeddings_from_all_layers(train_output)\n",
    "            \n",
    "            embedding_vector_subset = torch.index_select(embedding_vector, 1, self.feature_subset_indices)\n",
    "            embedding_vector_subset = embedding_vector_subset.view(C, H * W)\n",
    "            \n",
    "            dx = embedding_vector_subset - self.mean\n",
    "            self.mean += dx / n\n",
    "            dy = embedding_vector_subset - self.mean\n",
    "            for i in range(H * W):\n",
    "                self.cov[:, :, i] += torch.ger(dy[:, i], dx[:, i]) \n",
    "            \n",
    "           \n",
    "            # Reset hook outputs.\n",
    "            self.outputs = {}\n",
    "        \n",
    "        self.cov /= n - 1\n",
    "\n",
    "        Id = 0.01 * torch.eye(C, device=self.device)\n",
    "        \n",
    "        for i in range(H * W):\n",
    "            self.cov[:, :, i] +=  Id\n",
    "            \n",
    "    def train_and_test(self, train_dataloader: DataLoader, test_dataloader: DataLoader, C, H, W) -> float:\n",
    "        self.train(train_dataloader, C, H, W)\n",
    "        return self.test(test_dataloader)\n",
    "    \n",
    "    def test(self, test_dataloader: DataLoader) -> float:\n",
    "        self.cov = self.cov.cpu().detach().numpy()\n",
    "        self.mean = self.mean.cpu().detach().numpy()\n",
    "        super().test(test_dataloader)\n",
    "\n"
   ]
  },
  {
   "cell_type": "code",
   "execution_count": 20,
   "metadata": {
    "id": "E-_iGZSIy4XR",
    "ExecuteTime": {
     "end_time": "2023-12-19T04:46:34.294132Z",
     "start_time": "2023-12-19T04:44:23.654292Z"
    }
   },
   "outputs": [
    {
     "name": "stderr",
     "output_type": "stream",
     "text": [
      "Feature extraction (train):   0%|          | 0/209 [00:00<?, ?it/s]/Users/ortenburger_z/anaconda3/lib/python3.11/site-packages/torch/nn/functional.py:4756: UserWarning: The operator 'aten::im2col' is not currently supported on the MPS backend and will fall back to run on the CPU. This may have performance implications. (Triggered internally at /private/var/folders/k1/30mswbxs7r1g6zwn8y4fyt500000gp/T/abs_5ae0635zuj/croot/pytorch-select_1700511177724/work/aten/src/ATen/mps/MPSFallback.mm:13.)\n",
      "  return torch._C._nn.im2col(input, _pair(kernel_size), _pair(dilation), _pair(padding), _pair(stride))\n",
      "Feature extraction (train): 100%|██████████| 209/209 [01:52<00:00,  1.85it/s]\n",
      "Feature extraction (train): 100%|██████████| 209/209 [00:13<00:00, 15.26it/s]\n",
      "Covariance estimation: 100%|██████████| 3136/3136 [00:00<00:00, 10534.74it/s]\n"
     ]
    },
    {
     "data": {
      "text/plain": "True"
     },
     "execution_count": 20,
     "metadata": {},
     "output_type": "execute_result"
    }
   ],
   "source": [
    "# do not modify\n",
    "seed_all(SEED)\n",
    "class_name = 'bottle'\n",
    "BATCH_SIZE = 1\n",
    "RESIZE = 256 * 1\n",
    "CROP_SIZE = 224 * 1\n",
    "BACKBONE = \"resnet18\"\n",
    "NUMBER_OF_BACKBONE_FEATURES = 30\n",
    "MAX_NUMBER_OF_BACKBONE_FEATURES = 448\n",
    "# DEVICE=\"cpu\"\n",
    "\n",
    "indices = sample_idx(NUMBER_OF_BACKBONE_FEATURES, MAX_NUMBER_OF_BACKBONE_FEATURES).to(DEVICE)\n",
    "\n",
    "run_timestamp = time.time()\n",
    "SAVE_PATH = Path(f\"./results/{run_timestamp}/{class_name}\")\n",
    "\n",
    "train_dataset = MVTecDataset(DATA_PATH, class_name=class_name, is_train=True, resize=RESIZE, cropsize=CROP_SIZE)\n",
    "train_dataloader = DataLoader(train_dataset, batch_size=BATCH_SIZE, pin_memory=True)\n",
    "test_dataset = MVTecDataset(DATA_PATH, class_name=class_name, is_train=False, resize=RESIZE, cropsize=CROP_SIZE)\n",
    "val_dataloader = DataLoader(test_dataset, batch_size=BATCH_SIZE, pin_memory=True)\n",
    "\n",
    "padim_online = PADIMWithOnlineCovariance(\n",
    "    backbone=BACKBONE,\n",
    "    device=DEVICE,\n",
    "    backbone_features_idx=indices,\n",
    "    save_path=SAVE_PATH,\n",
    "    plot_metrics=True,\n",
    ")\n",
    "padim_online.train(train_dataloader, NUMBER_OF_BACKBONE_FEATURES, int(CROP_SIZE/4), int(CROP_SIZE/4))\n",
    "\n",
    "padim_offline = PADIM(\n",
    "    backbone=BACKBONE,\n",
    "    device=DEVICE,\n",
    "    backbone_features_idx=indices,\n",
    "    save_path=SAVE_PATH,\n",
    "    plot_metrics=True,\n",
    ")\n",
    "padim_offline.train(train_dataloader)\n",
    "\n",
    "\n",
    "torch.allclose(padim_online.mean, torch.Tensor(padim_offline.mean).to(DEVICE), atol=0.01) and torch.allclose(padim_online.cov, torch.Tensor(padim_offline.cov).to(DEVICE), atol=0.01)"
   ]
  },
  {
   "cell_type": "code",
   "execution_count": 21,
   "outputs": [
    {
     "name": "stderr",
     "output_type": "stream",
     "text": [
      "Feature extraction (test): 100%|██████████| 83/83 [00:05<00:00, 14.58it/s]\n"
     ]
    },
    {
     "name": "stdout",
     "output_type": "stream",
     "text": [
      "[TEST] Image AUROC: 0.998\n",
      "[TEST] Pixel AUROC: 0.977\n"
     ]
    },
    {
     "data": {
      "text/plain": "<Figure size 800x400 with 2 Axes>",
      "image/png": "[encoded data removed]"
     },
     "metadata": {},
     "output_type": "display_data"
    }
   ],
   "source": [
    "padim_online.test(val_dataloader)"
   ],
   "metadata": {
    "collapsed": false,
    "ExecuteTime": {
     "end_time": "2023-12-19T04:47:00.586364Z",
     "start_time": "2023-12-19T04:46:34.292533Z"
    }
   }
  },
  {
   "cell_type": "markdown",
   "metadata": {
    "id": "RwvgeUlby4XR"
   },
   "source": [
    "#### 2.3 Performance experiments (10%)\n",
    " If you completed task 2.2, design experiments to empirically compare space/memory performance of PADIM training with both traditional and online covariance matrix estimation. Write short conclusions.  \n",
    "#### 2.4 Bonus task (optional) \n",
    " You can also add similar experiments with conclusions with regard to the time complexity. This task is optional, but if you'll loose points elsewhere, this can help you to make up for some of them."
   ]
  },
  {
   "cell_type": "code",
   "execution_count": 22,
   "metadata": {
    "id": "hPttT-CDy4XR",
    "ExecuteTime": {
     "end_time": "2023-12-19T04:49:16.687706Z",
     "start_time": "2023-12-19T04:47:00.584902Z"
    }
   },
   "outputs": [
    {
     "name": "stderr",
     "output_type": "stream",
     "text": [
      "Feature extraction (train): 100%|██████████| 209/209 [00:13<00:00, 15.25it/s]\n",
      "Covariance estimation: 100%|██████████| 3136/3136 [00:00<00:00, 10511.64it/s]\n",
      "Feature extraction (train): 100%|██████████| 209/209 [01:53<00:00,  1.84it/s]\n"
     ]
    }
   ],
   "source": [
    "!pip install memory-profiler --quiet\n",
    "%load_ext memory_profiler\n",
    "from memory_profiler import memory_usage\n",
    "\n",
    "seed_all(SEED)\n",
    "class_name = 'bottle'\n",
    "BATCH_SIZE = 1\n",
    "RESIZE = 256 * 1\n",
    "CROP_SIZE = 224 * 1\n",
    "BACKBONE = \"resnet18\"\n",
    "NUMBER_OF_BACKBONE_FEATURES = 30\n",
    "MAX_NUMBER_OF_BACKBONE_FEATURES = 448\n",
    "# DEVICE=\"cpu\"\n",
    "\n",
    "indices = sample_idx(NUMBER_OF_BACKBONE_FEATURES, MAX_NUMBER_OF_BACKBONE_FEATURES).to(DEVICE)\n",
    "\n",
    "run_timestamp = time.time()\n",
    "SAVE_PATH = Path(f\"./results/{run_timestamp}/{class_name}\")\n",
    "\n",
    "train_dataset = MVTecDataset(DATA_PATH, class_name=class_name, is_train=True, resize=RESIZE, cropsize=CROP_SIZE)\n",
    "train_dataloader = DataLoader(train_dataset, batch_size=BATCH_SIZE, pin_memory=True)\n",
    "\n",
    "def padim_online_train():\n",
    "    padim_online = PADIMWithOnlineCovariance(\n",
    "        backbone=BACKBONE,\n",
    "        device=DEVICE,\n",
    "        backbone_features_idx=indices,\n",
    "        save_path=SAVE_PATH,\n",
    "        plot_metrics=True,\n",
    "    )\n",
    "    padim_online.train(train_dataloader, NUMBER_OF_BACKBONE_FEATURES, int(CROP_SIZE/4), int(CROP_SIZE/4))\n",
    "    \n",
    "def padim_offline_train():\n",
    "    padim_offline = PADIM(\n",
    "        backbone=BACKBONE,\n",
    "        device=DEVICE,\n",
    "        backbone_features_idx=indices,\n",
    "        save_path=SAVE_PATH,\n",
    "        plot_metrics=True,\n",
    "    )\n",
    "    padim_offline.train(train_dataloader)\n",
    "    \n",
    "memory_usage_offline = memory_usage(padim_offline_train, interval=1)\n",
    "memory_usage_online = memory_usage(padim_online_train, interval=1)"
   ]
  },
  {
   "cell_type": "code",
   "execution_count": 23,
   "outputs": [
    {
     "data": {
      "text/plain": "<Figure size 640x480 with 1 Axes>",
      "image/png": "[encoded data removed]"
     },
     "metadata": {},
     "output_type": "display_data"
    }
   ],
   "source": [
    "plt.plot(memory_usage_offline, label=\"offline\")\n",
    "plt.plot(memory_usage_online, label=\"online\")\n",
    "plt.legend()\n",
    "plt.xlabel(\"Time [s]\")\n",
    "plt.ylabel(\"Memory [MiB]\")\n",
    "plt.title(\"Memory usage\")\n",
    "plt.show()"
   ],
   "metadata": {
    "collapsed": false,
    "ExecuteTime": {
     "end_time": "2023-12-19T04:49:16.849394Z",
     "start_time": "2023-12-19T04:49:16.691768Z"
    }
   }
  },
  {
   "cell_type": "markdown",
   "metadata": {
    "id": "EC0SkNzBy4XR"
   },
   "source": [
    "The experiments with the plot above show our thoery that the memory usage of the online covariance estimation is drastically lower than the memory usage of the offline covariance estimationis correct. This is because the online covariance estimation does not store the intermediate layer outputs in the `train_outputs` dictionary, which reduces the memory consumption of the algorithm.\n",
    "\n",
    "The cost of this reduction in memory consumption is that the online covariance estimation is slower than the offline covariance estimation. This is because the online covariance estimation needs to calculate the mean and covariance matrix for each sample in the training dataset, while the offline covariance estimation only needs to calculate the mean and covariance matrix once for the whole training dataset. This means that the online covariance estimation needs to do more calculations than the offline covariance estimation, which makes it slower."
   ]
  },
  {
   "cell_type": "code",
   "execution_count": 23,
   "outputs": [],
   "source": [],
   "metadata": {
    "collapsed": false,
    "ExecuteTime": {
     "end_time": "2023-12-19T04:49:16.880949Z",
     "start_time": "2023-12-19T04:49:16.846147Z"
    }
   }
  }
 ],
 "metadata": {
  "kernelspec": {
   "display_name": "ml-teaching",
   "language": "python",
   "name": "python3"
  },
  "language_info": {
   "codemirror_mode": {
    "name": "ipython",
    "version": 3
   },
   "file_extension": ".py",
   "mimetype": "text/x-python",
   "name": "python",
   "nbconvert_exporter": "python",
   "pygments_lexer": "ipython3",
   "version": "3.10.11"
  },
  "colab": {
   "provenance": []
  }
 },
 "nbformat": 4,
 "nbformat_minor": 0
}
