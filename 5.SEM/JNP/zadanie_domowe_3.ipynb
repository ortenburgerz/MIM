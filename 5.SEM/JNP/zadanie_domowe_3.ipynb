{
 "cells": [
  {
   "cell_type": "markdown",
   "id": "b410227b",
   "metadata": {},
   "source": [
    "### Zadanie domowe 3\n",
    "\n",
    "Proszę skonstruować klasyfikator oparty o głęboką sieć neuronową dla danych CIFAR-10. \n",
    "\n",
    "Do konstrukcji klasyfikatora należy użyć zbioru treningowego danych CIFAR-10 a zbioru testowego CIFAR-10 jako zbioru walidacyjnego do oceny dokładności aktualnego modelu po każdej epoce procedury trenowania. \n",
    "\n",
    "Rozwiązaniem powinien być plik .ipynb z kodem w Pythonie wczytującym dane, dokonującym ewentualnych przekształceń danych, trenującym opisany klasyfikator i generującym wykresy dokładności modelu zarówno dla danych treningowych jak i walidacyjnych uzyskanych po każdej epoce trenowania. Procedura trenowania powinna wykorzystywać \"patient early stopping\" i zapisywać parametry najlepszego modelu do pliku. Po wytrenowaniu, zapisany model powinien zostać wczytany z zapisanego pliku i zastosowany do danych walidacyjnych celem obliczenia i wypisania dokładności osiągniętej dla tych danych.  \n",
    "\n",
    "Wytrenowany model powinnien osiągać dokładność na danych walidacyjnych wynoszącą co najmniej 70%.\n",
    "\n",
    "***Wskazówki:*** \n",
    "- Zastanowić się jaki powinien być \"input shape\".\n",
    "- Model powinien być głęboką siecią neuronową, jednak jej architektura jest pozostawiona Państwa inwencji.\n",
    "\n",
    "***Termin oddania***: 2 stycznia 2024"
   ]
  },
  {
   "cell_type": "code",
   "execution_count": 1,
   "id": "6ae79d33",
   "metadata": {
    "ExecuteTime": {
     "end_time": "2023-12-15T21:57:32.298759Z",
     "start_time": "2023-12-15T21:57:27.277943Z"
    }
   },
   "outputs": [],
   "source": [
    "import tensorflow.keras as keras"
   ]
  },
  {
   "cell_type": "code",
   "execution_count": 2,
   "outputs": [],
   "source": [
    "# Wczytanie danych\n",
    "(x_train, y_train), (x_test, y_test) = keras.datasets.cifar10.load_data()"
   ],
   "metadata": {
    "collapsed": false,
    "ExecuteTime": {
     "end_time": "2023-12-15T21:58:27.548412Z",
     "start_time": "2023-12-15T21:58:27.208014Z"
    }
   },
   "id": "86d749fa1e5d9ebb"
  },
  {
   "cell_type": "code",
   "execution_count": 3,
   "outputs": [],
   "source": [
    "x_train = x_train.reshape((x_train.shape[0], 32, 32, 3))\n",
    "x_test = x_test.reshape((x_test.shape[0], 32, 32, 3))"
   ],
   "metadata": {
    "collapsed": false,
    "ExecuteTime": {
     "end_time": "2023-12-15T21:58:28.095150Z",
     "start_time": "2023-12-15T21:58:28.088519Z"
    }
   },
   "id": "61e20173a12282be"
  },
  {
   "cell_type": "code",
   "execution_count": 4,
   "outputs": [],
   "source": [
    "x_train = x_train.astype('float32')\n",
    "x_test = x_test.astype('float32')\n",
    "\n",
    "x_train /= 255\n",
    "x_test /= 255"
   ],
   "metadata": {
    "collapsed": false,
    "ExecuteTime": {
     "end_time": "2023-12-15T21:58:29.184836Z",
     "start_time": "2023-12-15T21:58:28.941066Z"
    }
   },
   "id": "9fbaad4f8b9f2922"
  },
  {
   "cell_type": "code",
   "execution_count": 5,
   "outputs": [],
   "source": [
    "# Inicjalizacja klasyfikatora\n",
    "classifier = keras.Sequential([\n",
    "    keras.layers.Conv2D(32, (3, 3), padding='same', activation='relu', input_shape=(32, 32, 3)),\n",
    "    keras.layers.MaxPooling2D((2, 2), strides=(2, 2)),\n",
    "    keras.layers.Conv2D(64, (3, 3), padding='same', activation='relu'),\n",
    "    keras.layers.MaxPooling2D((2, 2), strides=(2, 2)),\n",
    "    keras.layers.Flatten(),\n",
    "    keras.layers.Dense(512, activation='relu'),\n",
    "    keras.layers.Dense(10, activation='softmax'),\n",
    "])"
   ],
   "metadata": {
    "collapsed": false,
    "ExecuteTime": {
     "end_time": "2023-12-15T21:58:36.297862Z",
     "start_time": "2023-12-15T21:58:36.224609Z"
    }
   },
   "id": "25ce217848230550"
  },
  {
   "cell_type": "code",
   "execution_count": 6,
   "outputs": [],
   "source": [
    "classifier.compile(loss='sparse_categorical_crossentropy', optimizer='adam', metrics=['accuracy'])"
   ],
   "metadata": {
    "collapsed": false,
    "ExecuteTime": {
     "end_time": "2023-12-15T21:58:37.342556Z",
     "start_time": "2023-12-15T21:58:37.330937Z"
    }
   },
   "id": "b33c8d1e6661baef"
  },
  {
   "cell_type": "code",
   "execution_count": 7,
   "outputs": [
    {
     "name": "stdout",
     "output_type": "stream",
     "text": [
      "Epoch 1/10\n"
     ]
    },
    {
     "name": "stderr",
     "output_type": "stream",
     "text": [
      "2023-12-15 22:58:39.459795: W tensorflow/tsl/platform/profile_utils/cpu_utils.cc:128] Failed to get CPU frequency: 0 Hz\n"
     ]
    },
    {
     "name": "stdout",
     "output_type": "stream",
     "text": [
      "500/500 [==============================] - 39s 78ms/step - loss: 1.4040 - accuracy: 0.5002 - val_loss: 1.0844 - val_accuracy: 0.6201\n",
      "Epoch 2/10\n",
      "500/500 [==============================] - 38s 76ms/step - loss: 1.0012 - accuracy: 0.6498 - val_loss: 0.9667 - val_accuracy: 0.6635\n",
      "Epoch 3/10\n",
      "500/500 [==============================] - 41s 81ms/step - loss: 0.8422 - accuracy: 0.7073 - val_loss: 0.9225 - val_accuracy: 0.6831\n",
      "Epoch 4/10\n",
      "500/500 [==============================] - 37s 74ms/step - loss: 0.7227 - accuracy: 0.7477 - val_loss: 0.8375 - val_accuracy: 0.7158\n",
      "Epoch 5/10\n",
      "500/500 [==============================] - 36s 73ms/step - loss: 0.6093 - accuracy: 0.7892 - val_loss: 0.8573 - val_accuracy: 0.7131\n",
      "Epoch 6/10\n",
      "500/500 [==============================] - 36s 72ms/step - loss: 0.5007 - accuracy: 0.8261 - val_loss: 0.8511 - val_accuracy: 0.7211\n",
      "Epoch 7/10\n",
      "500/500 [==============================] - 42s 84ms/step - loss: 0.3901 - accuracy: 0.8664 - val_loss: 0.8375 - val_accuracy: 0.7334\n",
      "Epoch 8/10\n",
      "500/500 [==============================] - 38s 76ms/step - loss: 0.2855 - accuracy: 0.9023 - val_loss: 0.9299 - val_accuracy: 0.7339\n",
      "Epoch 9/10\n",
      "500/500 [==============================] - 37s 75ms/step - loss: 0.2063 - accuracy: 0.9315 - val_loss: 1.0033 - val_accuracy: 0.7356\n",
      "Epoch 10/10\n",
      "500/500 [==============================] - 50s 99ms/step - loss: 0.1364 - accuracy: 0.9578 - val_loss: 1.1647 - val_accuracy: 0.7212\n"
     ]
    }
   ],
   "source": [
    "dropout_history = classifier.fit(\n",
    "    x=x_train,\n",
    "    y=y_train,\n",
    "    epochs=10,\n",
    "    batch_size=100,\n",
    "    validation_data=(x_test, y_test),\n",
    "    callbacks=[\n",
    "        keras.callbacks.EarlyStopping(\n",
    "            monitor='val_accuracy',\n",
    "            patience=5,\n",
    "            verbose=1,\n",
    "        ),\n",
    "        keras.callbacks.ModelCheckpoint(\n",
    "            filepath='best_model.h5',\n",
    "            monitor='val_accuracy',\n",
    "            save_best_only=True,\n",
    "        ),\n",
    "    ],\n",
    ")"
   ],
   "metadata": {
    "collapsed": false,
    "ExecuteTime": {
     "end_time": "2023-12-15T22:05:13.103622Z",
     "start_time": "2023-12-15T21:58:38.761987Z"
    }
   },
   "id": "699976866ecc33b6"
  },
  {
   "cell_type": "code",
   "execution_count": 8,
   "outputs": [
    {
     "name": "stdout",
     "output_type": "stream",
     "text": [
      "313/313 [==============================] - 4s 11ms/step - loss: 1.0033 - accuracy: 0.7356\n"
     ]
    }
   ],
   "source": [
    "best_model = keras.models.load_model('best_model.h5')\n",
    "    \n",
    "loss, accuracy = best_model.evaluate(x_test, y_test)"
   ],
   "metadata": {
    "collapsed": false,
    "ExecuteTime": {
     "end_time": "2023-12-15T22:05:20.925277Z",
     "start_time": "2023-12-15T22:05:17.179595Z"
    }
   },
   "id": "cab45e869a7470a0"
  },
  {
   "cell_type": "code",
   "execution_count": 9,
   "outputs": [
    {
     "data": {
      "text/plain": "<Figure size 640x480 with 1 Axes>",
      "image/png": "[encoded data removed]"
     },
     "metadata": {},
     "output_type": "display_data"
    }
   ],
   "source": [
    "import matplotlib.pyplot as plt\n",
    "plt.plot(dropout_history.history[\"accuracy\"], color=\"red\")\n",
    "plt.plot(dropout_history.history[\"val_accuracy\"], color=\"red\", linestyle=\"dashed\")\n",
    "plt.legend([\"Training Data\", \"Test Data\"], loc=\"lower right\")\n",
    "plt.title(\"Model accuracy over time\")\n",
    "plt.ylabel(\"Accuracy\")\n",
    "plt.xlabel(\"Epoch\")\n",
    "plt.ylim([0.3, 1])\n",
    "plt.show()\n"
   ],
   "metadata": {
    "collapsed": false,
    "ExecuteTime": {
     "end_time": "2023-12-15T22:05:26.819527Z",
     "start_time": "2023-12-15T22:05:26.129411Z"
    }
   },
   "id": "ae2d24e0c5f01788"
  },
  {
   "cell_type": "code",
   "execution_count": null,
   "outputs": [],
   "source": [],
   "metadata": {
    "collapsed": false
   },
   "id": "cff925f953eb7ea1"
  }
 ],
 "metadata": {
  "kernelspec": {
   "display_name": "Python 3 (ipykernel)",
   "language": "python",
   "name": "python3"
  },
  "language_info": {
   "codemirror_mode": {
    "name": "ipython",
    "version": 3
   },
   "file_extension": ".py",
   "mimetype": "text/x-python",
   "name": "python",
   "nbconvert_exporter": "python",
   "pygments_lexer": "ipython3",
   "version": "3.9.16"
  }
 },
 "nbformat": 4,
 "nbformat_minor": 5
}
